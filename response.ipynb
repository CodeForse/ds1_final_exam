{
 "cells": [
  {
   "cell_type": "markdown",
   "metadata": {
    "collapsed": false
   },
   "source": [
    "here mine imports"
   ]
  },
  {
   "cell_type": "code",
   "execution_count": 2,
   "metadata": {
    "collapsed": true
   },
   "outputs": [],
   "source": [
    "import pandas as pd \n",
    "import matplotlib.pyplot as plt"
   ]
  },
  {
   "cell_type": "code",
   "execution_count": 3,
   "metadata": {
    "collapsed": false
   },
   "outputs": [],
   "source": [
    "df = pd.read_csv('./data/1991.csv')"
   ]
  },
  {
   "cell_type": "code",
   "execution_count": 10,
   "metadata": {},
   "outputs": [
    {
     "data": {
      "text/plain": [
       "Index(['Year', 'Month', 'DayofMonth', 'DayOfWeek', 'DepTime', 'CRSDepTime',\n",
       "       'ArrTime', 'CRSArrTime', 'UniqueCarrier', 'FlightNum', 'TailNum',\n",
       "       'ActualElapsedTime', 'CRSElapsedTime', 'AirTime', 'ArrDelay',\n",
       "       'DepDelay', 'Origin', 'Dest', 'Distance', 'TaxiIn', 'TaxiOut',\n",
       "       'Cancelled', 'CancellationCode', 'Diverted', 'CarrierDelay',\n",
       "       'WeatherDelay', 'NASDelay', 'SecurityDelay', 'LateAircraftDelay'],\n",
       "      dtype='object')"
      ]
     },
     "execution_count": 10,
     "metadata": {},
     "output_type": "execute_result"
    }
   ],
   "source": [
    "df.columns"
   ]
  },
  {
   "cell_type": "code",
   "execution_count": 8,
   "metadata": {},
   "outputs": [
    {
     "data": {
      "text/plain": [
       "(5076925, 29)"
      ]
     },
     "execution_count": 8,
     "metadata": {},
     "output_type": "execute_result"
    }
   ],
   "source": [
    "df.shape"
   ]
  },
  {
   "cell_type": "markdown",
   "metadata": {},
   "source": [
    "**Q0.** Examine how many missing values there are in different columns of your dataset. Remove columns with totally missing values."
   ]
  },
  {
   "cell_type": "code",
   "execution_count": 6,
   "metadata": {},
   "outputs": [
    {
     "name": "stdout",
     "output_type": "stream",
     "text": [
      "0\n",
      "0\n",
      "0\n",
      "0\n",
      "43505\n",
      "0\n",
      "56090\n",
      "0\n",
      "0\n",
      "0\n",
      "56090\n",
      "0\n",
      "56090\n",
      "43505\n",
      "0\n",
      "0\n",
      "26261\n",
      "0\n",
      "0\n"
     ]
    }
   ],
   "source": [
    "for column_name in df.columns:\n",
    "    print(df[column_name].isnull().sum())"
   ]
  },
  {
   "cell_type": "code",
   "execution_count": 16,
   "metadata": {},
   "outputs": [
    {
     "name": "stdout",
     "output_type": "stream",
     "text": [
      "TailNum\n",
      "AirTime\n",
      "TaxiIn\n",
      "TaxiOut\n",
      "CancellationCode\n",
      "CarrierDelay\n",
      "WeatherDelay\n",
      "NASDelay\n",
      "SecurityDelay\n",
      "LateAircraftDelay\n"
     ]
    }
   ],
   "source": [
    "for column_name in df.columns:\n",
    "    if df[column_name].isnull().sum() == df.shape[0]:\n",
    "        print(column_name)"
   ]
  },
  {
   "cell_type": "code",
   "execution_count": 4,
   "metadata": {},
   "outputs": [
    {
     "name": "stderr",
     "output_type": "stream",
     "text": [
      "C:\\Users\\User\\AppData\\Local\\Temp\\ipykernel_4224\\102169749.py:1: FutureWarning: In a future version of pandas all arguments of DataFrame.dropna will be keyword-only.\n",
      "  df = df.dropna('columns', how='all')\n"
     ]
    }
   ],
   "source": [
    "df = df.dropna('columns', how='all')"
   ]
  },
  {
   "cell_type": "code",
   "execution_count": 20,
   "metadata": {},
   "outputs": [
    {
     "data": {
      "text/plain": [
       "(5076925, 19)"
      ]
     },
     "execution_count": 20,
     "metadata": {},
     "output_type": "execute_result"
    }
   ],
   "source": [
    "df.shape # now only 19/29 are left"
   ]
  },
  {
   "cell_type": "markdown",
   "id": "674cb8d8",
   "metadata": {},
   "source": [
    "**Q1.** Visualize the correlation matrix of the numeric features of your dataset. Find top-10 of the most correlated pairs of columns. Can you explain why are they highly correlated?"
   ]
  },
  {
   "cell_type": "code",
   "execution_count": 21,
   "metadata": {},
   "outputs": [
    {
     "name": "stderr",
     "output_type": "stream",
     "text": [
      "C:\\Users\\User\\AppData\\Local\\Temp\\ipykernel_9896\\1134722465.py:1: FutureWarning: The default value of numeric_only in DataFrame.corr is deprecated. In a future version, it will default to False. Select only valid columns or specify the value of numeric_only to silence this warning.\n",
      "  df.corr()\n"
     ]
    },
    {
     "data": {
      "text/html": [
       "<div>\n",
       "<style scoped>\n",
       "    .dataframe tbody tr th:only-of-type {\n",
       "        vertical-align: middle;\n",
       "    }\n",
       "\n",
       "    .dataframe tbody tr th {\n",
       "        vertical-align: top;\n",
       "    }\n",
       "\n",
       "    .dataframe thead th {\n",
       "        text-align: right;\n",
       "    }\n",
       "</style>\n",
       "<table border=\"1\" class=\"dataframe\">\n",
       "  <thead>\n",
       "    <tr style=\"text-align: right;\">\n",
       "      <th></th>\n",
       "      <th>Year</th>\n",
       "      <th>Month</th>\n",
       "      <th>DayofMonth</th>\n",
       "      <th>DayOfWeek</th>\n",
       "      <th>DepTime</th>\n",
       "      <th>CRSDepTime</th>\n",
       "      <th>ArrTime</th>\n",
       "      <th>CRSArrTime</th>\n",
       "      <th>FlightNum</th>\n",
       "      <th>ActualElapsedTime</th>\n",
       "      <th>CRSElapsedTime</th>\n",
       "      <th>ArrDelay</th>\n",
       "      <th>DepDelay</th>\n",
       "      <th>Distance</th>\n",
       "      <th>Cancelled</th>\n",
       "      <th>Diverted</th>\n",
       "    </tr>\n",
       "  </thead>\n",
       "  <tbody>\n",
       "    <tr>\n",
       "      <th>Year</th>\n",
       "      <td>NaN</td>\n",
       "      <td>NaN</td>\n",
       "      <td>NaN</td>\n",
       "      <td>NaN</td>\n",
       "      <td>NaN</td>\n",
       "      <td>NaN</td>\n",
       "      <td>NaN</td>\n",
       "      <td>NaN</td>\n",
       "      <td>NaN</td>\n",
       "      <td>NaN</td>\n",
       "      <td>NaN</td>\n",
       "      <td>NaN</td>\n",
       "      <td>NaN</td>\n",
       "      <td>NaN</td>\n",
       "      <td>NaN</td>\n",
       "      <td>NaN</td>\n",
       "    </tr>\n",
       "    <tr>\n",
       "      <th>Month</th>\n",
       "      <td>NaN</td>\n",
       "      <td>1.000000</td>\n",
       "      <td>0.006707</td>\n",
       "      <td>-0.001769</td>\n",
       "      <td>-0.003813</td>\n",
       "      <td>-0.001934</td>\n",
       "      <td>-0.002384</td>\n",
       "      <td>-0.001838</td>\n",
       "      <td>0.016787</td>\n",
       "      <td>0.001087</td>\n",
       "      <td>0.002217</td>\n",
       "      <td>-0.028631</td>\n",
       "      <td>-0.029289</td>\n",
       "      <td>0.010559</td>\n",
       "      <td>-0.031704</td>\n",
       "      <td>-0.006695</td>\n",
       "    </tr>\n",
       "    <tr>\n",
       "      <th>DayofMonth</th>\n",
       "      <td>NaN</td>\n",
       "      <td>0.006707</td>\n",
       "      <td>1.000000</td>\n",
       "      <td>0.005891</td>\n",
       "      <td>-0.002353</td>\n",
       "      <td>-0.001550</td>\n",
       "      <td>-0.001718</td>\n",
       "      <td>-0.001005</td>\n",
       "      <td>0.001378</td>\n",
       "      <td>0.000853</td>\n",
       "      <td>0.001193</td>\n",
       "      <td>-0.005526</td>\n",
       "      <td>-0.005544</td>\n",
       "      <td>0.001125</td>\n",
       "      <td>-0.011076</td>\n",
       "      <td>-0.000952</td>\n",
       "    </tr>\n",
       "    <tr>\n",
       "      <th>DayOfWeek</th>\n",
       "      <td>NaN</td>\n",
       "      <td>-0.001769</td>\n",
       "      <td>0.005891</td>\n",
       "      <td>1.000000</td>\n",
       "      <td>0.005262</td>\n",
       "      <td>0.003906</td>\n",
       "      <td>0.006740</td>\n",
       "      <td>0.006716</td>\n",
       "      <td>0.007402</td>\n",
       "      <td>0.009725</td>\n",
       "      <td>0.014204</td>\n",
       "      <td>0.006240</td>\n",
       "      <td>0.020536</td>\n",
       "      <td>0.014389</td>\n",
       "      <td>-0.006978</td>\n",
       "      <td>0.000521</td>\n",
       "    </tr>\n",
       "    <tr>\n",
       "      <th>DepTime</th>\n",
       "      <td>NaN</td>\n",
       "      <td>-0.003813</td>\n",
       "      <td>-0.002353</td>\n",
       "      <td>0.005262</td>\n",
       "      <td>1.000000</td>\n",
       "      <td>0.984100</td>\n",
       "      <td>0.793693</td>\n",
       "      <td>0.821491</td>\n",
       "      <td>0.016760</td>\n",
       "      <td>-0.046212</td>\n",
       "      <td>-0.043425</td>\n",
       "      <td>0.108290</td>\n",
       "      <td>0.128147</td>\n",
       "      <td>-0.050281</td>\n",
       "      <td>NaN</td>\n",
       "      <td>0.002173</td>\n",
       "    </tr>\n",
       "    <tr>\n",
       "      <th>CRSDepTime</th>\n",
       "      <td>NaN</td>\n",
       "      <td>-0.001934</td>\n",
       "      <td>-0.001550</td>\n",
       "      <td>0.003906</td>\n",
       "      <td>0.984100</td>\n",
       "      <td>1.000000</td>\n",
       "      <td>0.785386</td>\n",
       "      <td>0.819418</td>\n",
       "      <td>0.018151</td>\n",
       "      <td>-0.050496</td>\n",
       "      <td>-0.046813</td>\n",
       "      <td>0.077316</td>\n",
       "      <td>0.095680</td>\n",
       "      <td>-0.053210</td>\n",
       "      <td>-0.003737</td>\n",
       "      <td>-0.001116</td>\n",
       "    </tr>\n",
       "    <tr>\n",
       "      <th>ArrTime</th>\n",
       "      <td>NaN</td>\n",
       "      <td>-0.002384</td>\n",
       "      <td>-0.001718</td>\n",
       "      <td>0.006740</td>\n",
       "      <td>0.793693</td>\n",
       "      <td>0.785386</td>\n",
       "      <td>1.000000</td>\n",
       "      <td>0.944741</td>\n",
       "      <td>0.011021</td>\n",
       "      <td>0.058332</td>\n",
       "      <td>0.056374</td>\n",
       "      <td>0.070468</td>\n",
       "      <td>0.071552</td>\n",
       "      <td>0.046770</td>\n",
       "      <td>NaN</td>\n",
       "      <td>NaN</td>\n",
       "    </tr>\n",
       "    <tr>\n",
       "      <th>CRSArrTime</th>\n",
       "      <td>NaN</td>\n",
       "      <td>-0.001838</td>\n",
       "      <td>-0.001005</td>\n",
       "      <td>0.006716</td>\n",
       "      <td>0.821491</td>\n",
       "      <td>0.819418</td>\n",
       "      <td>0.944741</td>\n",
       "      <td>1.000000</td>\n",
       "      <td>0.009707</td>\n",
       "      <td>0.059340</td>\n",
       "      <td>0.061840</td>\n",
       "      <td>0.081904</td>\n",
       "      <td>0.095566</td>\n",
       "      <td>0.052129</td>\n",
       "      <td>-0.007040</td>\n",
       "      <td>0.000519</td>\n",
       "    </tr>\n",
       "    <tr>\n",
       "      <th>FlightNum</th>\n",
       "      <td>NaN</td>\n",
       "      <td>0.016787</td>\n",
       "      <td>0.001378</td>\n",
       "      <td>0.007402</td>\n",
       "      <td>0.016760</td>\n",
       "      <td>0.018151</td>\n",
       "      <td>0.011021</td>\n",
       "      <td>0.009707</td>\n",
       "      <td>1.000000</td>\n",
       "      <td>-0.166403</td>\n",
       "      <td>-0.169189</td>\n",
       "      <td>-0.016325</td>\n",
       "      <td>-0.024913</td>\n",
       "      <td>-0.172730</td>\n",
       "      <td>0.000292</td>\n",
       "      <td>-0.005367</td>\n",
       "    </tr>\n",
       "    <tr>\n",
       "      <th>ActualElapsedTime</th>\n",
       "      <td>NaN</td>\n",
       "      <td>0.001087</td>\n",
       "      <td>0.000853</td>\n",
       "      <td>0.009725</td>\n",
       "      <td>-0.046212</td>\n",
       "      <td>-0.050496</td>\n",
       "      <td>0.058332</td>\n",
       "      <td>0.059340</td>\n",
       "      <td>-0.166403</td>\n",
       "      <td>1.000000</td>\n",
       "      <td>0.984070</td>\n",
       "      <td>0.107073</td>\n",
       "      <td>0.057504</td>\n",
       "      <td>0.973699</td>\n",
       "      <td>NaN</td>\n",
       "      <td>NaN</td>\n",
       "    </tr>\n",
       "    <tr>\n",
       "      <th>CRSElapsedTime</th>\n",
       "      <td>NaN</td>\n",
       "      <td>0.002217</td>\n",
       "      <td>0.001193</td>\n",
       "      <td>0.014204</td>\n",
       "      <td>-0.043425</td>\n",
       "      <td>-0.046813</td>\n",
       "      <td>0.056374</td>\n",
       "      <td>0.061840</td>\n",
       "      <td>-0.169189</td>\n",
       "      <td>0.984070</td>\n",
       "      <td>1.000000</td>\n",
       "      <td>0.008692</td>\n",
       "      <td>0.049605</td>\n",
       "      <td>0.985106</td>\n",
       "      <td>-0.017767</td>\n",
       "      <td>0.021143</td>\n",
       "    </tr>\n",
       "    <tr>\n",
       "      <th>ArrDelay</th>\n",
       "      <td>NaN</td>\n",
       "      <td>-0.028631</td>\n",
       "      <td>-0.005526</td>\n",
       "      <td>0.006240</td>\n",
       "      <td>0.108290</td>\n",
       "      <td>0.077316</td>\n",
       "      <td>0.070468</td>\n",
       "      <td>0.081904</td>\n",
       "      <td>-0.016325</td>\n",
       "      <td>0.107073</td>\n",
       "      <td>0.008692</td>\n",
       "      <td>1.000000</td>\n",
       "      <td>0.783604</td>\n",
       "      <td>0.019171</td>\n",
       "      <td>NaN</td>\n",
       "      <td>NaN</td>\n",
       "    </tr>\n",
       "    <tr>\n",
       "      <th>DepDelay</th>\n",
       "      <td>NaN</td>\n",
       "      <td>-0.029289</td>\n",
       "      <td>-0.005544</td>\n",
       "      <td>0.020536</td>\n",
       "      <td>0.128147</td>\n",
       "      <td>0.095680</td>\n",
       "      <td>0.071552</td>\n",
       "      <td>0.095566</td>\n",
       "      <td>-0.024913</td>\n",
       "      <td>0.057504</td>\n",
       "      <td>0.049605</td>\n",
       "      <td>0.783604</td>\n",
       "      <td>1.000000</td>\n",
       "      <td>0.047221</td>\n",
       "      <td>NaN</td>\n",
       "      <td>0.064323</td>\n",
       "    </tr>\n",
       "    <tr>\n",
       "      <th>Distance</th>\n",
       "      <td>NaN</td>\n",
       "      <td>0.010559</td>\n",
       "      <td>0.001125</td>\n",
       "      <td>0.014389</td>\n",
       "      <td>-0.050281</td>\n",
       "      <td>-0.053210</td>\n",
       "      <td>0.046770</td>\n",
       "      <td>0.052129</td>\n",
       "      <td>-0.172730</td>\n",
       "      <td>0.973699</td>\n",
       "      <td>0.985106</td>\n",
       "      <td>0.019171</td>\n",
       "      <td>0.047221</td>\n",
       "      <td>1.000000</td>\n",
       "      <td>-0.020086</td>\n",
       "      <td>0.021254</td>\n",
       "    </tr>\n",
       "    <tr>\n",
       "      <th>Cancelled</th>\n",
       "      <td>NaN</td>\n",
       "      <td>-0.031704</td>\n",
       "      <td>-0.011076</td>\n",
       "      <td>-0.006978</td>\n",
       "      <td>NaN</td>\n",
       "      <td>-0.003737</td>\n",
       "      <td>NaN</td>\n",
       "      <td>-0.007040</td>\n",
       "      <td>0.000292</td>\n",
       "      <td>NaN</td>\n",
       "      <td>-0.017767</td>\n",
       "      <td>NaN</td>\n",
       "      <td>NaN</td>\n",
       "      <td>-0.020086</td>\n",
       "      <td>1.000000</td>\n",
       "      <td>-0.004635</td>\n",
       "    </tr>\n",
       "    <tr>\n",
       "      <th>Diverted</th>\n",
       "      <td>NaN</td>\n",
       "      <td>-0.006695</td>\n",
       "      <td>-0.000952</td>\n",
       "      <td>0.000521</td>\n",
       "      <td>0.002173</td>\n",
       "      <td>-0.001116</td>\n",
       "      <td>NaN</td>\n",
       "      <td>0.000519</td>\n",
       "      <td>-0.005367</td>\n",
       "      <td>NaN</td>\n",
       "      <td>0.021143</td>\n",
       "      <td>NaN</td>\n",
       "      <td>0.064323</td>\n",
       "      <td>0.021254</td>\n",
       "      <td>-0.004635</td>\n",
       "      <td>1.000000</td>\n",
       "    </tr>\n",
       "  </tbody>\n",
       "</table>\n",
       "</div>"
      ],
      "text/plain": [
       "                   Year     Month  DayofMonth  DayOfWeek   DepTime  \\\n",
       "Year                NaN       NaN         NaN        NaN       NaN   \n",
       "Month               NaN  1.000000    0.006707  -0.001769 -0.003813   \n",
       "DayofMonth          NaN  0.006707    1.000000   0.005891 -0.002353   \n",
       "DayOfWeek           NaN -0.001769    0.005891   1.000000  0.005262   \n",
       "DepTime             NaN -0.003813   -0.002353   0.005262  1.000000   \n",
       "CRSDepTime          NaN -0.001934   -0.001550   0.003906  0.984100   \n",
       "ArrTime             NaN -0.002384   -0.001718   0.006740  0.793693   \n",
       "CRSArrTime          NaN -0.001838   -0.001005   0.006716  0.821491   \n",
       "FlightNum           NaN  0.016787    0.001378   0.007402  0.016760   \n",
       "ActualElapsedTime   NaN  0.001087    0.000853   0.009725 -0.046212   \n",
       "CRSElapsedTime      NaN  0.002217    0.001193   0.014204 -0.043425   \n",
       "ArrDelay            NaN -0.028631   -0.005526   0.006240  0.108290   \n",
       "DepDelay            NaN -0.029289   -0.005544   0.020536  0.128147   \n",
       "Distance            NaN  0.010559    0.001125   0.014389 -0.050281   \n",
       "Cancelled           NaN -0.031704   -0.011076  -0.006978       NaN   \n",
       "Diverted            NaN -0.006695   -0.000952   0.000521  0.002173   \n",
       "\n",
       "                   CRSDepTime   ArrTime  CRSArrTime  FlightNum  \\\n",
       "Year                      NaN       NaN         NaN        NaN   \n",
       "Month               -0.001934 -0.002384   -0.001838   0.016787   \n",
       "DayofMonth          -0.001550 -0.001718   -0.001005   0.001378   \n",
       "DayOfWeek            0.003906  0.006740    0.006716   0.007402   \n",
       "DepTime              0.984100  0.793693    0.821491   0.016760   \n",
       "CRSDepTime           1.000000  0.785386    0.819418   0.018151   \n",
       "ArrTime              0.785386  1.000000    0.944741   0.011021   \n",
       "CRSArrTime           0.819418  0.944741    1.000000   0.009707   \n",
       "FlightNum            0.018151  0.011021    0.009707   1.000000   \n",
       "ActualElapsedTime   -0.050496  0.058332    0.059340  -0.166403   \n",
       "CRSElapsedTime      -0.046813  0.056374    0.061840  -0.169189   \n",
       "ArrDelay             0.077316  0.070468    0.081904  -0.016325   \n",
       "DepDelay             0.095680  0.071552    0.095566  -0.024913   \n",
       "Distance            -0.053210  0.046770    0.052129  -0.172730   \n",
       "Cancelled           -0.003737       NaN   -0.007040   0.000292   \n",
       "Diverted            -0.001116       NaN    0.000519  -0.005367   \n",
       "\n",
       "                   ActualElapsedTime  CRSElapsedTime  ArrDelay  DepDelay  \\\n",
       "Year                             NaN             NaN       NaN       NaN   \n",
       "Month                       0.001087        0.002217 -0.028631 -0.029289   \n",
       "DayofMonth                  0.000853        0.001193 -0.005526 -0.005544   \n",
       "DayOfWeek                   0.009725        0.014204  0.006240  0.020536   \n",
       "DepTime                    -0.046212       -0.043425  0.108290  0.128147   \n",
       "CRSDepTime                 -0.050496       -0.046813  0.077316  0.095680   \n",
       "ArrTime                     0.058332        0.056374  0.070468  0.071552   \n",
       "CRSArrTime                  0.059340        0.061840  0.081904  0.095566   \n",
       "FlightNum                  -0.166403       -0.169189 -0.016325 -0.024913   \n",
       "ActualElapsedTime           1.000000        0.984070  0.107073  0.057504   \n",
       "CRSElapsedTime              0.984070        1.000000  0.008692  0.049605   \n",
       "ArrDelay                    0.107073        0.008692  1.000000  0.783604   \n",
       "DepDelay                    0.057504        0.049605  0.783604  1.000000   \n",
       "Distance                    0.973699        0.985106  0.019171  0.047221   \n",
       "Cancelled                        NaN       -0.017767       NaN       NaN   \n",
       "Diverted                         NaN        0.021143       NaN  0.064323   \n",
       "\n",
       "                   Distance  Cancelled  Diverted  \n",
       "Year                    NaN        NaN       NaN  \n",
       "Month              0.010559  -0.031704 -0.006695  \n",
       "DayofMonth         0.001125  -0.011076 -0.000952  \n",
       "DayOfWeek          0.014389  -0.006978  0.000521  \n",
       "DepTime           -0.050281        NaN  0.002173  \n",
       "CRSDepTime        -0.053210  -0.003737 -0.001116  \n",
       "ArrTime            0.046770        NaN       NaN  \n",
       "CRSArrTime         0.052129  -0.007040  0.000519  \n",
       "FlightNum         -0.172730   0.000292 -0.005367  \n",
       "ActualElapsedTime  0.973699        NaN       NaN  \n",
       "CRSElapsedTime     0.985106  -0.017767  0.021143  \n",
       "ArrDelay           0.019171        NaN       NaN  \n",
       "DepDelay           0.047221        NaN  0.064323  \n",
       "Distance           1.000000  -0.020086  0.021254  \n",
       "Cancelled         -0.020086   1.000000 -0.004635  \n",
       "Diverted           0.021254  -0.004635  1.000000  "
      ]
     },
     "execution_count": 21,
     "metadata": {},
     "output_type": "execute_result"
    }
   ],
   "source": [
    "df.corr()"
   ]
  },
  {
   "cell_type": "code",
   "execution_count": 32,
   "metadata": {},
   "outputs": [
    {
     "name": "stderr",
     "output_type": "stream",
     "text": [
      "C:\\Users\\User\\AppData\\Local\\Temp\\ipykernel_9896\\2438265331.py:1: FutureWarning: The default value of numeric_only in DataFrame.corr is deprecated. In a future version, it will default to False. Select only valid columns or specify the value of numeric_only to silence this warning.\n",
      "  plt.matshow(df.corr())\n"
     ]
    },
    {
     "data": {
      "image/png": "[encoded data removed]",
      "text/plain": [
       "<Figure size 480x480 with 1 Axes>"
      ]
     },
     "metadata": {},
     "output_type": "display_data"
    }
   ],
   "source": [
    "plt.matshow(df.corr())\n",
    "plt.show()"
   ]
  },
  {
   "cell_type": "markdown",
   "metadata": {},
   "source": [
    "First of all let's see the odds - Year has NaN correlation with all columns, this is cause the Year column has only one value (1991). So it is a constant, no correlation to the consant can be done. Furthermore, imagine training the model that only learns to say 1991.\n",
    "\n",
    "The other nans have happened, due to the fact that columns are mutually exclusive. If your fly is cancelled, then when will you arrive? \n",
    "Technically the row with non cancelled have arrTime, also it seems Cancelled column too often takes 0 value"
   ]
  },
  {
   "cell_type": "code",
   "execution_count": 29,
   "metadata": {},
   "outputs": [
    {
     "data": {
      "text/plain": [
       "43505"
      ]
     },
     "execution_count": 29,
     "metadata": {},
     "output_type": "execute_result"
    }
   ],
   "source": [
    "df['Cancelled'].sum()\n",
    "df['Year']"
   ]
  },
  {
   "cell_type": "markdown",
   "metadata": {},
   "source": [
    "Below the code to get top 10 most correlated pairs, without square brackets it returns all pairs so i had to avoid correlation on itself (first 15, if you look at the matrix you notice Year is excluded). Also i had to avoid identical pairs but swapped(just step 2)"
   ]
  },
  {
   "cell_type": "code",
   "execution_count": 55,
   "metadata": {},
   "outputs": [
    {
     "name": "stderr",
     "output_type": "stream",
     "text": [
      "C:\\Users\\User\\AppData\\Local\\Temp\\ipykernel_9896\\1098466335.py:1: FutureWarning: The default value of numeric_only in DataFrame.corr is deprecated. In a future version, it will default to False. Select only valid columns or specify the value of numeric_only to silence this warning.\n",
      "  df.corr().abs().unstack().sort_values(ascending=False)[15:35:2]\n"
     ]
    },
    {
     "data": {
      "text/plain": [
       "CRSElapsedTime  Distance             0.985106\n",
       "CRSDepTime      DepTime              0.984100\n",
       "CRSElapsedTime  ActualElapsedTime    0.984070\n",
       "Distance        ActualElapsedTime    0.973699\n",
       "CRSArrTime      ArrTime              0.944741\n",
       "DepTime         CRSArrTime           0.821491\n",
       "CRSArrTime      CRSDepTime           0.819418\n",
       "ArrTime         DepTime              0.793693\n",
       "CRSDepTime      ArrTime              0.785386\n",
       "DepDelay        ArrDelay             0.783604\n",
       "dtype: float64"
      ]
     },
     "execution_count": 55,
     "metadata": {},
     "output_type": "execute_result"
    }
   ],
   "source": [
    "df.corr().abs().unstack().sort_values(ascending=False)[15:35:2]"
   ]
  },
  {
   "cell_type": "code",
   "execution_count": 57,
   "metadata": {},
   "outputs": [
    {
     "data": {
      "text/html": [
       "<div>\n",
       "<style scoped>\n",
       "    .dataframe tbody tr th:only-of-type {\n",
       "        vertical-align: middle;\n",
       "    }\n",
       "\n",
       "    .dataframe tbody tr th {\n",
       "        vertical-align: top;\n",
       "    }\n",
       "\n",
       "    .dataframe thead th {\n",
       "        text-align: right;\n",
       "    }\n",
       "</style>\n",
       "<table border=\"1\" class=\"dataframe\">\n",
       "  <thead>\n",
       "    <tr style=\"text-align: right;\">\n",
       "      <th></th>\n",
       "      <th>Variable descriptions</th>\n",
       "      <th>Unnamed: 1</th>\n",
       "      <th>Unnamed: 2</th>\n",
       "    </tr>\n",
       "  </thead>\n",
       "  <tbody>\n",
       "    <tr>\n",
       "      <th>0</th>\n",
       "      <td>NaN</td>\n",
       "      <td>NaN</td>\n",
       "      <td>NaN</td>\n",
       "    </tr>\n",
       "    <tr>\n",
       "      <th>1</th>\n",
       "      <td>NaN</td>\n",
       "      <td>Name</td>\n",
       "      <td>Description</td>\n",
       "    </tr>\n",
       "    <tr>\n",
       "      <th>2</th>\n",
       "      <td>1.0</td>\n",
       "      <td>Year</td>\n",
       "      <td>1987-2008</td>\n",
       "    </tr>\n",
       "    <tr>\n",
       "      <th>3</th>\n",
       "      <td>2.0</td>\n",
       "      <td>Month</td>\n",
       "      <td>12-Jan</td>\n",
       "    </tr>\n",
       "    <tr>\n",
       "      <th>4</th>\n",
       "      <td>3.0</td>\n",
       "      <td>DayofMonth</td>\n",
       "      <td>31-Jan</td>\n",
       "    </tr>\n",
       "    <tr>\n",
       "      <th>5</th>\n",
       "      <td>4.0</td>\n",
       "      <td>DayOfWeek</td>\n",
       "      <td>1 (Monday) - 7 (Sunday)</td>\n",
       "    </tr>\n",
       "    <tr>\n",
       "      <th>6</th>\n",
       "      <td>5.0</td>\n",
       "      <td>DepTime</td>\n",
       "      <td>actual departure time (local, hhmm)</td>\n",
       "    </tr>\n",
       "    <tr>\n",
       "      <th>7</th>\n",
       "      <td>6.0</td>\n",
       "      <td>CRSDepTime</td>\n",
       "      <td>scheduled departure time (local, hhmm)</td>\n",
       "    </tr>\n",
       "    <tr>\n",
       "      <th>8</th>\n",
       "      <td>7.0</td>\n",
       "      <td>ArrTime</td>\n",
       "      <td>actual arrival time (local, hhmm)</td>\n",
       "    </tr>\n",
       "    <tr>\n",
       "      <th>9</th>\n",
       "      <td>8.0</td>\n",
       "      <td>CRSArrTime</td>\n",
       "      <td>scheduled arrival time (local, hhmm)</td>\n",
       "    </tr>\n",
       "    <tr>\n",
       "      <th>10</th>\n",
       "      <td>9.0</td>\n",
       "      <td>UniqueCarrier</td>\n",
       "      <td>unique carrier code</td>\n",
       "    </tr>\n",
       "    <tr>\n",
       "      <th>11</th>\n",
       "      <td>10.0</td>\n",
       "      <td>FlightNum</td>\n",
       "      <td>flight number</td>\n",
       "    </tr>\n",
       "    <tr>\n",
       "      <th>12</th>\n",
       "      <td>11.0</td>\n",
       "      <td>TailNum</td>\n",
       "      <td>plane tail number</td>\n",
       "    </tr>\n",
       "    <tr>\n",
       "      <th>13</th>\n",
       "      <td>12.0</td>\n",
       "      <td>ActualElapsedTime</td>\n",
       "      <td>in minutes</td>\n",
       "    </tr>\n",
       "    <tr>\n",
       "      <th>14</th>\n",
       "      <td>13.0</td>\n",
       "      <td>CRSElapsedTime</td>\n",
       "      <td>in minutes</td>\n",
       "    </tr>\n",
       "    <tr>\n",
       "      <th>15</th>\n",
       "      <td>14.0</td>\n",
       "      <td>AirTime</td>\n",
       "      <td>in minutes</td>\n",
       "    </tr>\n",
       "    <tr>\n",
       "      <th>16</th>\n",
       "      <td>15.0</td>\n",
       "      <td>ArrDelay</td>\n",
       "      <td>arrival delay, in minutes</td>\n",
       "    </tr>\n",
       "    <tr>\n",
       "      <th>17</th>\n",
       "      <td>16.0</td>\n",
       "      <td>DepDelay</td>\n",
       "      <td>departure delay, in minutes</td>\n",
       "    </tr>\n",
       "    <tr>\n",
       "      <th>18</th>\n",
       "      <td>17.0</td>\n",
       "      <td>Origin</td>\n",
       "      <td>origin IATA airport code</td>\n",
       "    </tr>\n",
       "    <tr>\n",
       "      <th>19</th>\n",
       "      <td>18.0</td>\n",
       "      <td>Dest</td>\n",
       "      <td>destination IATA airport code</td>\n",
       "    </tr>\n",
       "    <tr>\n",
       "      <th>20</th>\n",
       "      <td>19.0</td>\n",
       "      <td>Distance</td>\n",
       "      <td>in miles</td>\n",
       "    </tr>\n",
       "    <tr>\n",
       "      <th>21</th>\n",
       "      <td>20.0</td>\n",
       "      <td>TaxiIn</td>\n",
       "      <td>taxi in time, in minutes</td>\n",
       "    </tr>\n",
       "    <tr>\n",
       "      <th>22</th>\n",
       "      <td>21.0</td>\n",
       "      <td>TaxiOut</td>\n",
       "      <td>taxi out time in minutes</td>\n",
       "    </tr>\n",
       "    <tr>\n",
       "      <th>23</th>\n",
       "      <td>22.0</td>\n",
       "      <td>Cancelled</td>\n",
       "      <td>was the flight cancelled?</td>\n",
       "    </tr>\n",
       "    <tr>\n",
       "      <th>24</th>\n",
       "      <td>23.0</td>\n",
       "      <td>CancellationCode</td>\n",
       "      <td>reason for cancellation (A = carrier, B = weat...</td>\n",
       "    </tr>\n",
       "    <tr>\n",
       "      <th>25</th>\n",
       "      <td>24.0</td>\n",
       "      <td>Diverted</td>\n",
       "      <td>1 = yes, 0 = no</td>\n",
       "    </tr>\n",
       "    <tr>\n",
       "      <th>26</th>\n",
       "      <td>25.0</td>\n",
       "      <td>CarrierDelay</td>\n",
       "      <td>in minutes</td>\n",
       "    </tr>\n",
       "    <tr>\n",
       "      <th>27</th>\n",
       "      <td>26.0</td>\n",
       "      <td>WeatherDelay</td>\n",
       "      <td>in minutes</td>\n",
       "    </tr>\n",
       "    <tr>\n",
       "      <th>28</th>\n",
       "      <td>27.0</td>\n",
       "      <td>NASDelay</td>\n",
       "      <td>in minutes</td>\n",
       "    </tr>\n",
       "    <tr>\n",
       "      <th>29</th>\n",
       "      <td>28.0</td>\n",
       "      <td>SecurityDelay</td>\n",
       "      <td>in minutes</td>\n",
       "    </tr>\n",
       "    <tr>\n",
       "      <th>30</th>\n",
       "      <td>29.0</td>\n",
       "      <td>LateAircraftDelay</td>\n",
       "      <td>in minutes</td>\n",
       "    </tr>\n",
       "  </tbody>\n",
       "</table>\n",
       "</div>"
      ],
      "text/plain": [
       "    Variable descriptions         Unnamed: 1  \\\n",
       "0                     NaN                NaN   \n",
       "1                     NaN               Name   \n",
       "2                     1.0               Year   \n",
       "3                     2.0              Month   \n",
       "4                     3.0         DayofMonth   \n",
       "5                     4.0          DayOfWeek   \n",
       "6                     5.0            DepTime   \n",
       "7                     6.0         CRSDepTime   \n",
       "8                     7.0            ArrTime   \n",
       "9                     8.0         CRSArrTime   \n",
       "10                    9.0      UniqueCarrier   \n",
       "11                   10.0          FlightNum   \n",
       "12                   11.0            TailNum   \n",
       "13                   12.0  ActualElapsedTime   \n",
       "14                   13.0     CRSElapsedTime   \n",
       "15                   14.0            AirTime   \n",
       "16                   15.0           ArrDelay   \n",
       "17                   16.0           DepDelay   \n",
       "18                   17.0             Origin   \n",
       "19                   18.0               Dest   \n",
       "20                   19.0           Distance   \n",
       "21                   20.0             TaxiIn   \n",
       "22                   21.0            TaxiOut   \n",
       "23                   22.0          Cancelled   \n",
       "24                   23.0   CancellationCode   \n",
       "25                   24.0           Diverted   \n",
       "26                   25.0       CarrierDelay   \n",
       "27                   26.0       WeatherDelay   \n",
       "28                   27.0           NASDelay   \n",
       "29                   28.0      SecurityDelay   \n",
       "30                   29.0  LateAircraftDelay   \n",
       "\n",
       "                                           Unnamed: 2  \n",
       "0                                                 NaN  \n",
       "1                                         Description  \n",
       "2                                           1987-2008  \n",
       "3                                              12-Jan  \n",
       "4                                              31-Jan  \n",
       "5                             1 (Monday) - 7 (Sunday)  \n",
       "6                 actual departure time (local, hhmm)  \n",
       "7              scheduled departure time (local, hhmm)  \n",
       "8                   actual arrival time (local, hhmm)  \n",
       "9                scheduled arrival time (local, hhmm)  \n",
       "10                                unique carrier code  \n",
       "11                                      flight number  \n",
       "12                                  plane tail number  \n",
       "13                                         in minutes  \n",
       "14                                         in minutes  \n",
       "15                                         in minutes  \n",
       "16                          arrival delay, in minutes  \n",
       "17                        departure delay, in minutes  \n",
       "18                           origin IATA airport code  \n",
       "19                      destination IATA airport code  \n",
       "20                                           in miles  \n",
       "21                           taxi in time, in minutes  \n",
       "22                           taxi out time in minutes  \n",
       "23                          was the flight cancelled?  \n",
       "24  reason for cancellation (A = carrier, B = weat...  \n",
       "25                                    1 = yes, 0 = no  \n",
       "26                                         in minutes  \n",
       "27                                         in minutes  \n",
       "28                                         in minutes  \n",
       "29                                         in minutes  \n",
       "30                                         in minutes  "
      ]
     },
     "execution_count": 57,
     "metadata": {},
     "output_type": "execute_result"
    }
   ],
   "source": [
    "descriptions = pd.read_csv(\"./data/variable-descriptions.csv\")\n",
    "descriptions"
   ]
  },
  {
   "cell_type": "markdown",
   "metadata": {},
   "source": [
    "Now let's discuss why they have such correlation:\n",
    "1. CRSElapsedTime  Distance  - scheduled epalsed time is highly correlated with the distance, as it is the easiest to measure value, assuming velocity is the same during the fly - distance will be the multiple of the time (D = U*t)\n",
    "2. CRSDepTime      DepTime - scheduled dep Time is assumed to predict real DepTime, so having high correlation is expected. However, sometimes unexpected situations may happen.\n",
    "3. CRSElapsedTime  ActualElapsedTime  \n",
    "Scheduled elapsed time is also assumed to predict real elapsed time, so having high correlation is expected. However, sometimes unexpected situations may happen.\n",
    "4. Distance        ActualElapsedTime \n",
    "Distance is higly correleted with scheduled Elapsedtime, which is highly correleted to Actual elapsedtime. Also at the same velocity achiving different distane is possible only with rising time at 2022.\n",
    "5. CRSArrTime      ArrTime    \n",
    "Scheduled arrival time is also assumed to predict real arrival time, so having high correlation is expected. However, sometimes unexpected situations may happen.\n",
    "6. DepTime         CRSArrTime  \n",
    "DepTime is highly correleted with CRSDepTime, that is very correleted with CRSArrTime (likely is a part of the formula of calculation of the expected arrival time).\n",
    "7. CRSArrTime      CRSDepTime  \n",
    "All scheduled(calculated) values in the airport are likely to be dependent (by being joined during calculation of other parameters)\n",
    "ArrTime is likely to be a sum of Dep time, flying time and ending time,the same way for our expectations that would be scheduled\n",
    "8. ArrTime         DepTime \n",
    "ArrTime includes DepTime, cuz there is no time travel and time is assumed to be linear with positive trend\n",
    "9. CRSDepTime      ArrTime   \n",
    "Dep Time is highly correleted with both ArrTime and Scheduled Dep time, since one first uses value of dep time to get its value and second is trying to predict Dep time\n",
    "10. DepDelay        ArrDelay\n",
    "Real Dep Time is highly correleted with DepDelay, i assume they use the formula RealDepTime = DepDelay + CRSDepTime\n",
    "The same way i assume for ArrDelay, ArrTime = ArrDelay + CRSArrTime\n",
    "As we know ArrTIme is dependent on DepTime\n",
    "\n",
    "Conclusion:\n",
    "The results based on top 10 highly correleted pairs, didn't provide us any reasonable information (that wouldn't be expected/obvious). \n"
   ]
  },
  {
   "cell_type": "markdown",
   "id": "02034a1c",
   "metadata": {},
   "source": [
    "**Q2.** Plot a graph of the number of cancelled flights by carrier (also provide human-readable carriers' names). Which company cancelled races most often?"
   ]
  },
  {
   "cell_type": "code",
   "execution_count": 10,
   "metadata": {},
   "outputs": [
    {
     "data": {
      "text/plain": [
       "<AxesSubplot: xlabel='UniqueCarrier'>"
      ]
     },
     "execution_count": 10,
     "metadata": {},
     "output_type": "execute_result"
    },
    {
     "data": {
      "image/png": "[encoded data removed]",
      "text/plain": [
       "<Figure size 640x480 with 1 Axes>"
      ]
     },
     "metadata": {},
     "output_type": "display_data"
    }
   ],
   "source": [
    "carrier_counts = df.groupby('UniqueCarrier')['Cancelled'].sum()\n",
    "carrier_counts.plot(kind='bar', x='UniqueCarrier', y='Cancelled')"
   ]
  },
  {
   "cell_type": "code",
   "execution_count": 11,
   "metadata": {},
   "outputs": [
    {
     "data": {
      "text/plain": [
       "<AxesSubplot: xlabel='UniqueCarrier'>"
      ]
     },
     "execution_count": 11,
     "metadata": {},
     "output_type": "execute_result"
    },
    {
     "data": {
      "image/png": "[encoded data removed]",
      "text/plain": [
       "<Figure size 640x480 with 1 Axes>"
      ]
     },
     "metadata": {},
     "output_type": "display_data"
    }
   ],
   "source": [
    "carrier_counts = df.groupby('UniqueCarrier')['Cancelled'].sum()\n",
    "carrier_counts.plot(kind='bar', x='UniqueCarrier')"
   ]
  },
  {
   "cell_type": "code",
   "execution_count": 18,
   "metadata": {},
   "outputs": [
    {
     "data": {
      "text/plain": [
       "0    5033420\n",
       "1      43505\n",
       "Name: Cancelled, dtype: int64"
      ]
     },
     "execution_count": 18,
     "metadata": {},
     "output_type": "execute_result"
    }
   ],
   "source": [
    "df['Cancelled'].value_counts()"
   ]
  },
  {
   "cell_type": "code",
   "execution_count": 19,
   "metadata": {},
   "outputs": [
    {
     "data": {
      "text/plain": [
       "US        907184\n",
       "DL        874791\n",
       "AA        725191\n",
       "UA        630093\n",
       "NW        460230\n",
       "CO        424734\n",
       "WN        368734\n",
       "TW        231769\n",
       "HP        219896\n",
       "AS         98952\n",
       "ML (1)     70622\n",
       "PA (1)     64729\n",
       "Name: UniqueCarrier, dtype: int64"
      ]
     },
     "execution_count": 19,
     "metadata": {},
     "output_type": "execute_result"
    }
   ],
   "source": [
    "df['UniqueCarrier'].value_counts()"
   ]
  },
  {
   "cell_type": "code",
   "execution_count": 20,
   "metadata": {},
   "outputs": [
    {
     "data": {
      "text/plain": [
       "UniqueCarrier\n",
       "AA        4951\n",
       "AS         858\n",
       "CO        3600\n",
       "DL        5990\n",
       "HP        2204\n",
       "ML (1)    1342\n",
       "NW        2741\n",
       "PA (1)     825\n",
       "TW        2871\n",
       "UA        8732\n",
       "US        6932\n",
       "WN        2459\n",
       "Name: Cancelled, dtype: int64"
      ]
     },
     "execution_count": 20,
     "metadata": {},
     "output_type": "execute_result"
    }
   ],
   "source": [
    "carrier_counts"
   ]
  },
  {
   "cell_type": "code",
   "execution_count": 21,
   "metadata": {},
   "outputs": [
    {
     "data": {
      "text/plain": [
       "<AxesSubplot: >"
      ]
     },
     "execution_count": 21,
     "metadata": {},
     "output_type": "execute_result"
    },
    {
     "data": {
      "image/png": "[encoded data removed]",
      "text/plain": [
       "<Figure size 640x480 with 1 Axes>"
      ]
     },
     "metadata": {},
     "output_type": "display_data"
    }
   ],
   "source": [
    "carrier_counts = df.groupby('UniqueCarrier')['Cancelled'].sum().divide(df['UniqueCarrier'].value_counts())\n",
    "carrier_counts.plot(kind='bar', x='UniqueCarrier')"
   ]
  },
  {
   "cell_type": "markdown",
   "metadata": {},
   "source": [
    "So in total we have 43505 cancelled flights.\n",
    "As you can see from the graph UA and US have highest amounts of cancelled flights (above 6000). \n",
    "However, we must account proportions to make reasonable conclusions.\n",
    "About UA <United Airlines Inc.>:\n",
    "8732 cancelled flights out of 630093 \n",
    "UA cancelled proportion = 8732/630093 = 0.01385827171\n",
    "About US <US Airways Inc.>:\n",
    "6932 cancelled flights out of 907184\n",
    "US cancelled propotion = 6932/907184 = 0.00764122824\n",
    "Low values - the chance of cancelled flight given you use UA or US carriers is ~ 1%.\n",
    "\n",
    "Beforehand i was using counts of cancelled flights, but proportion makes more sence.\n",
    "From the graph of the proportions of cancelled flights among carriers we see that in general cancelled flight propability is about 1 %.\n",
    "However, the highest risk of cancellation is in ML(1) with the proportion ~ 0.018, so it is close to 2 %.\n",
    "\n",
    "So if i got to answer for a question: which UniqueCarriers cancelled is more often (in terms of counts) - than my answer will be UA <United Airlines Inc.> and US <US Airways Inc.>. But if i answer in terms of the frequency - my answer will be ML(1) <Midway Airlines Inc. (1)>.\n",
    "\n",
    "Now let's draw graph with readable names\n"
   ]
  },
  {
   "cell_type": "code",
   "execution_count": 22,
   "metadata": {},
   "outputs": [],
   "source": [
    "name_parser = pd.read_csv('./data/carriers.csv')\n"
   ]
  },
  {
   "cell_type": "code",
   "execution_count": 39,
   "metadata": {},
   "outputs": [],
   "source": [
    "df = df.merge(name_parser, left_on='UniqueCarrier', right_on='Code')"
   ]
  },
  {
   "cell_type": "code",
   "execution_count": 41,
   "metadata": {},
   "outputs": [],
   "source": [
    "df = df.drop('Code', axis=1)\n"
   ]
  },
  {
   "cell_type": "code",
   "execution_count": 42,
   "metadata": {},
   "outputs": [],
   "source": [
    "df = df.rename(columns={'Description':'UniqueCarrierDescription'})"
   ]
  },
  {
   "cell_type": "code",
   "execution_count": 43,
   "metadata": {},
   "outputs": [
    {
     "data": {
      "text/plain": [
       "<AxesSubplot: >"
      ]
     },
     "execution_count": 43,
     "metadata": {},
     "output_type": "execute_result"
    },
    {
     "data": {
      "image/png": "[encoded data removed]",
      "text/plain": [
       "<Figure size 640x480 with 1 Axes>"
      ]
     },
     "metadata": {},
     "output_type": "display_data"
    }
   ],
   "source": [
    "carrier_counts = df.groupby('UniqueCarrierDescription')['Cancelled'].sum().divide(df['UniqueCarrierDescription'].value_counts())\n",
    "carrier_counts.plot(kind='bar', x='UniqueCarrierDescription')"
   ]
  },
  {
   "cell_type": "markdown",
   "metadata": {},
   "source": [
    "<END of the answer 2>"
   ]
  },
  {
   "cell_type": "markdown",
   "id": "175f8bba",
   "metadata": {},
   "source": [
    "**Q3.** Select all flights of the most popular carrier scheduled on 1st day of a month. Print top-10 of such flights with greatest arrival delays."
   ]
  },
  {
   "cell_type": "code",
   "execution_count": 46,
   "metadata": {},
   "outputs": [
    {
     "name": "stdout",
     "output_type": "stream",
     "text": [
      "        Year  Month  DayofMonth  DayOfWeek  DepTime  CRSDepTime  ArrTime  \\\n",
      "775828  1991     11           1          5   1712.0        1105   1830.0   \n",
      "844508  1991     12           1          7   1859.0        1340   2101.0   \n",
      "902558  1991     12           1          7   2121.0        1530   2300.0   \n",
      "148816  1991      2           1          5     16.0        1955    249.0   \n",
      "795996  1991     11           1          5   2157.0        1745   2308.0   \n",
      "793524  1991     11           1          5   2338.0        1940    215.0   \n",
      "812870  1991     11           1          5   2220.0        1910    117.0   \n",
      "778759  1991     11           1          5   1951.0        1755   2151.0   \n",
      "805562  1991     11           1          5   1702.0        1400   1822.0   \n",
      "129979  1991      2           1          5   2134.0        1900   2327.0   \n",
      "\n",
      "        CRSArrTime UniqueCarrier  FlightNum  ActualElapsedTime  \\\n",
      "775828        1212            US        339              138.0   \n",
      "844508        1446            US        222              122.0   \n",
      "902558        1711            US       1965               99.0   \n",
      "148816        2212            US       2524               93.0   \n",
      "795996        1844            US        851              131.0   \n",
      "793524        2200            US        792               97.0   \n",
      "812870        2148            US       1448              117.0   \n",
      "778759        1829            US        411              180.0   \n",
      "805562        1505            US       1163              140.0   \n",
      "129979        2013            US       1493              113.0   \n",
      "\n",
      "        CRSElapsedTime  ArrDelay  DepDelay Origin Dest  Distance  Cancelled  \\\n",
      "775828             127     378.0     367.0    CLT  ORD     599.0          0   \n",
      "844508              66     375.0     319.0    PHL  MHT     290.0          0   \n",
      "902558             101     349.0     351.0    MHT  PIT     485.0          0   \n",
      "148816              77     277.0     261.0    LAX  TUS     451.0          0   \n",
      "795996             119     264.0     252.0    CLT  ORD     599.0          0   \n",
      "793524              80     255.0     238.0    ORD  PIT     412.0          0   \n",
      "812870              98     209.0     190.0    ORD  CLT     599.0          0   \n",
      "778759              94     202.0     116.0    PIT  ORD     412.0          0   \n",
      "805562             125     197.0     182.0    BWI  ORD     622.0          0   \n",
      "129979              73     194.0     154.0    LAX  SFO     337.0          0   \n",
      "\n",
      "        Diverted                           UniqueCarrierDescription  \n",
      "775828         0  US Airways Inc. (Merged with America West 9/05...  \n",
      "844508         0  US Airways Inc. (Merged with America West 9/05...  \n",
      "902558         0  US Airways Inc. (Merged with America West 9/05...  \n",
      "148816         0  US Airways Inc. (Merged with America West 9/05...  \n",
      "795996         0  US Airways Inc. (Merged with America West 9/05...  \n",
      "793524         0  US Airways Inc. (Merged with America West 9/05...  \n",
      "812870         0  US Airways Inc. (Merged with America West 9/05...  \n",
      "778759         0  US Airways Inc. (Merged with America West 9/05...  \n",
      "805562         0  US Airways Inc. (Merged with America West 9/05...  \n",
      "129979         0  US Airways Inc. (Merged with America West 9/05...  \n"
     ]
    }
   ],
   "source": [
    "df_q3 = df[df['DayofMonth'] == 1]\n",
    "\n",
    "carrier_counts = df_q3.groupby('UniqueCarrier').size()\n",
    "\n",
    "most_popular_carrier = carrier_counts.nlargest(1)\n",
    "\n",
    "most_popular_flights = df_q3[df_q3['UniqueCarrier'] == most_popular_carrier.index[0]]\n",
    "\n",
    "top_delayed_flights = most_popular_flights.sort_values('ArrDelay', ascending=False).head(10)\n",
    "\n",
    "print(top_delayed_flights)"
   ]
  },
  {
   "cell_type": "markdown",
   "metadata": {},
   "source": [
    "<END of the 3 answer>"
   ]
  },
  {
   "cell_type": "markdown",
   "id": "1f99d1f9",
   "metadata": {},
   "source": [
    "**Q4.** Create column `DepDatetime` with datetimes of departures in the format `yyyy-mm-dd HH:MM`."
   ]
  },
  {
   "cell_type": "code",
   "execution_count": 67,
   "metadata": {},
   "outputs": [],
   "source": [
    "def get_departures_format(row):\n",
    "    if row['Cancelled'] == 0:\n",
    "        month =  str(row['DayofMonth'])\n",
    "        if len(month) < 2:\n",
    "            month = '0' + month\n",
    "        day = str(row['DayofMonth'])\n",
    "        if len(day) < 2:\n",
    "            day = '0' + day\n",
    "        time = str(row['DepTime'])\n",
    "        if len(time) < 4:  # my data had Deptime as HHMM but column type was float, so i got to add 0\n",
    "            time = '0' + time\n",
    "        return f\"{row['Year']}-{month}-{day} {time[0:2]}:{time[2:4]}\"\n",
    "    else:\n",
    "        return pd.NA"
   ]
  },
  {
   "cell_type": "code",
   "execution_count": 68,
   "metadata": {},
   "outputs": [],
   "source": [
    "df['DepDatetime'] = df.apply(get_departures_format, axis=1, )"
   ]
  },
  {
   "cell_type": "code",
   "execution_count": 69,
   "metadata": {},
   "outputs": [
    {
     "data": {
      "text/html": [
       "<div>\n",
       "<style scoped>\n",
       "    .dataframe tbody tr th:only-of-type {\n",
       "        vertical-align: middle;\n",
       "    }\n",
       "\n",
       "    .dataframe tbody tr th {\n",
       "        vertical-align: top;\n",
       "    }\n",
       "\n",
       "    .dataframe thead th {\n",
       "        text-align: right;\n",
       "    }\n",
       "</style>\n",
       "<table border=\"1\" class=\"dataframe\">\n",
       "  <thead>\n",
       "    <tr style=\"text-align: right;\">\n",
       "      <th></th>\n",
       "      <th>Year</th>\n",
       "      <th>Month</th>\n",
       "      <th>DayofMonth</th>\n",
       "      <th>DayOfWeek</th>\n",
       "      <th>DepTime</th>\n",
       "      <th>CRSDepTime</th>\n",
       "      <th>ArrTime</th>\n",
       "      <th>CRSArrTime</th>\n",
       "      <th>UniqueCarrier</th>\n",
       "      <th>FlightNum</th>\n",
       "      <th>...</th>\n",
       "      <th>CRSElapsedTime</th>\n",
       "      <th>ArrDelay</th>\n",
       "      <th>DepDelay</th>\n",
       "      <th>Origin</th>\n",
       "      <th>Dest</th>\n",
       "      <th>Distance</th>\n",
       "      <th>Cancelled</th>\n",
       "      <th>Diverted</th>\n",
       "      <th>UniqueCarrierDescription</th>\n",
       "      <th>DepDatetime</th>\n",
       "    </tr>\n",
       "  </thead>\n",
       "  <tbody>\n",
       "    <tr>\n",
       "      <th>0</th>\n",
       "      <td>1991</td>\n",
       "      <td>1</td>\n",
       "      <td>1</td>\n",
       "      <td>2</td>\n",
       "      <td>1709.0</td>\n",
       "      <td>1705</td>\n",
       "      <td>1944.0</td>\n",
       "      <td>1944</td>\n",
       "      <td>US</td>\n",
       "      <td>112</td>\n",
       "      <td>...</td>\n",
       "      <td>159</td>\n",
       "      <td>0.0</td>\n",
       "      <td>4.0</td>\n",
       "      <td>TPA</td>\n",
       "      <td>SYR</td>\n",
       "      <td>1104.0</td>\n",
       "      <td>0</td>\n",
       "      <td>0</td>\n",
       "      <td>US Airways Inc. (Merged with America West 9/05...</td>\n",
       "      <td>1991-01-01 17:09</td>\n",
       "    </tr>\n",
       "    <tr>\n",
       "      <th>1</th>\n",
       "      <td>1991</td>\n",
       "      <td>1</td>\n",
       "      <td>2</td>\n",
       "      <td>3</td>\n",
       "      <td>1704.0</td>\n",
       "      <td>1705</td>\n",
       "      <td>1946.0</td>\n",
       "      <td>1944</td>\n",
       "      <td>US</td>\n",
       "      <td>112</td>\n",
       "      <td>...</td>\n",
       "      <td>159</td>\n",
       "      <td>2.0</td>\n",
       "      <td>-1.0</td>\n",
       "      <td>TPA</td>\n",
       "      <td>SYR</td>\n",
       "      <td>1104.0</td>\n",
       "      <td>0</td>\n",
       "      <td>0</td>\n",
       "      <td>US Airways Inc. (Merged with America West 9/05...</td>\n",
       "      <td>1991-02-02 17:04</td>\n",
       "    </tr>\n",
       "    <tr>\n",
       "      <th>2</th>\n",
       "      <td>1991</td>\n",
       "      <td>1</td>\n",
       "      <td>3</td>\n",
       "      <td>4</td>\n",
       "      <td>1705.0</td>\n",
       "      <td>1705</td>\n",
       "      <td>1934.0</td>\n",
       "      <td>1944</td>\n",
       "      <td>US</td>\n",
       "      <td>112</td>\n",
       "      <td>...</td>\n",
       "      <td>159</td>\n",
       "      <td>-10.0</td>\n",
       "      <td>0.0</td>\n",
       "      <td>TPA</td>\n",
       "      <td>SYR</td>\n",
       "      <td>1104.0</td>\n",
       "      <td>0</td>\n",
       "      <td>0</td>\n",
       "      <td>US Airways Inc. (Merged with America West 9/05...</td>\n",
       "      <td>1991-03-03 17:05</td>\n",
       "    </tr>\n",
       "    <tr>\n",
       "      <th>3</th>\n",
       "      <td>1991</td>\n",
       "      <td>1</td>\n",
       "      <td>4</td>\n",
       "      <td>5</td>\n",
       "      <td>1709.0</td>\n",
       "      <td>1705</td>\n",
       "      <td>1951.0</td>\n",
       "      <td>1944</td>\n",
       "      <td>US</td>\n",
       "      <td>112</td>\n",
       "      <td>...</td>\n",
       "      <td>159</td>\n",
       "      <td>7.0</td>\n",
       "      <td>4.0</td>\n",
       "      <td>TPA</td>\n",
       "      <td>SYR</td>\n",
       "      <td>1104.0</td>\n",
       "      <td>0</td>\n",
       "      <td>0</td>\n",
       "      <td>US Airways Inc. (Merged with America West 9/05...</td>\n",
       "      <td>1991-04-04 17:09</td>\n",
       "    </tr>\n",
       "    <tr>\n",
       "      <th>4</th>\n",
       "      <td>1991</td>\n",
       "      <td>1</td>\n",
       "      <td>5</td>\n",
       "      <td>6</td>\n",
       "      <td>1703.0</td>\n",
       "      <td>1705</td>\n",
       "      <td>1936.0</td>\n",
       "      <td>1944</td>\n",
       "      <td>US</td>\n",
       "      <td>112</td>\n",
       "      <td>...</td>\n",
       "      <td>159</td>\n",
       "      <td>-8.0</td>\n",
       "      <td>-2.0</td>\n",
       "      <td>TPA</td>\n",
       "      <td>SYR</td>\n",
       "      <td>1104.0</td>\n",
       "      <td>0</td>\n",
       "      <td>0</td>\n",
       "      <td>US Airways Inc. (Merged with America West 9/05...</td>\n",
       "      <td>1991-05-05 17:03</td>\n",
       "    </tr>\n",
       "    <tr>\n",
       "      <th>5</th>\n",
       "      <td>1991</td>\n",
       "      <td>1</td>\n",
       "      <td>6</td>\n",
       "      <td>7</td>\n",
       "      <td>1711.0</td>\n",
       "      <td>1705</td>\n",
       "      <td>1949.0</td>\n",
       "      <td>1944</td>\n",
       "      <td>US</td>\n",
       "      <td>112</td>\n",
       "      <td>...</td>\n",
       "      <td>159</td>\n",
       "      <td>5.0</td>\n",
       "      <td>6.0</td>\n",
       "      <td>TPA</td>\n",
       "      <td>SYR</td>\n",
       "      <td>1104.0</td>\n",
       "      <td>0</td>\n",
       "      <td>0</td>\n",
       "      <td>US Airways Inc. (Merged with America West 9/05...</td>\n",
       "      <td>1991-06-06 17:11</td>\n",
       "    </tr>\n",
       "    <tr>\n",
       "      <th>6</th>\n",
       "      <td>1991</td>\n",
       "      <td>1</td>\n",
       "      <td>7</td>\n",
       "      <td>1</td>\n",
       "      <td>1711.0</td>\n",
       "      <td>1705</td>\n",
       "      <td>1946.0</td>\n",
       "      <td>1944</td>\n",
       "      <td>US</td>\n",
       "      <td>112</td>\n",
       "      <td>...</td>\n",
       "      <td>159</td>\n",
       "      <td>2.0</td>\n",
       "      <td>6.0</td>\n",
       "      <td>TPA</td>\n",
       "      <td>SYR</td>\n",
       "      <td>1104.0</td>\n",
       "      <td>0</td>\n",
       "      <td>0</td>\n",
       "      <td>US Airways Inc. (Merged with America West 9/05...</td>\n",
       "      <td>1991-07-07 17:11</td>\n",
       "    </tr>\n",
       "    <tr>\n",
       "      <th>7</th>\n",
       "      <td>1991</td>\n",
       "      <td>1</td>\n",
       "      <td>8</td>\n",
       "      <td>2</td>\n",
       "      <td>1704.0</td>\n",
       "      <td>1705</td>\n",
       "      <td>1934.0</td>\n",
       "      <td>1944</td>\n",
       "      <td>US</td>\n",
       "      <td>112</td>\n",
       "      <td>...</td>\n",
       "      <td>159</td>\n",
       "      <td>-10.0</td>\n",
       "      <td>-1.0</td>\n",
       "      <td>TPA</td>\n",
       "      <td>SYR</td>\n",
       "      <td>1104.0</td>\n",
       "      <td>0</td>\n",
       "      <td>0</td>\n",
       "      <td>US Airways Inc. (Merged with America West 9/05...</td>\n",
       "      <td>1991-08-08 17:04</td>\n",
       "    </tr>\n",
       "    <tr>\n",
       "      <th>8</th>\n",
       "      <td>1991</td>\n",
       "      <td>1</td>\n",
       "      <td>9</td>\n",
       "      <td>3</td>\n",
       "      <td>1805.0</td>\n",
       "      <td>1705</td>\n",
       "      <td>2042.0</td>\n",
       "      <td>1944</td>\n",
       "      <td>US</td>\n",
       "      <td>112</td>\n",
       "      <td>...</td>\n",
       "      <td>159</td>\n",
       "      <td>58.0</td>\n",
       "      <td>60.0</td>\n",
       "      <td>TPA</td>\n",
       "      <td>SYR</td>\n",
       "      <td>1104.0</td>\n",
       "      <td>0</td>\n",
       "      <td>0</td>\n",
       "      <td>US Airways Inc. (Merged with America West 9/05...</td>\n",
       "      <td>1991-09-09 18:05</td>\n",
       "    </tr>\n",
       "    <tr>\n",
       "      <th>9</th>\n",
       "      <td>1991</td>\n",
       "      <td>1</td>\n",
       "      <td>10</td>\n",
       "      <td>4</td>\n",
       "      <td>1703.0</td>\n",
       "      <td>1705</td>\n",
       "      <td>1946.0</td>\n",
       "      <td>1944</td>\n",
       "      <td>US</td>\n",
       "      <td>112</td>\n",
       "      <td>...</td>\n",
       "      <td>159</td>\n",
       "      <td>2.0</td>\n",
       "      <td>-2.0</td>\n",
       "      <td>TPA</td>\n",
       "      <td>SYR</td>\n",
       "      <td>1104.0</td>\n",
       "      <td>0</td>\n",
       "      <td>0</td>\n",
       "      <td>US Airways Inc. (Merged with America West 9/05...</td>\n",
       "      <td>1991-10-10 17:03</td>\n",
       "    </tr>\n",
       "  </tbody>\n",
       "</table>\n",
       "<p>10 rows × 21 columns</p>\n",
       "</div>"
      ],
      "text/plain": [
       "   Year  Month  DayofMonth  DayOfWeek  DepTime  CRSDepTime  ArrTime  \\\n",
       "0  1991      1           1          2   1709.0        1705   1944.0   \n",
       "1  1991      1           2          3   1704.0        1705   1946.0   \n",
       "2  1991      1           3          4   1705.0        1705   1934.0   \n",
       "3  1991      1           4          5   1709.0        1705   1951.0   \n",
       "4  1991      1           5          6   1703.0        1705   1936.0   \n",
       "5  1991      1           6          7   1711.0        1705   1949.0   \n",
       "6  1991      1           7          1   1711.0        1705   1946.0   \n",
       "7  1991      1           8          2   1704.0        1705   1934.0   \n",
       "8  1991      1           9          3   1805.0        1705   2042.0   \n",
       "9  1991      1          10          4   1703.0        1705   1946.0   \n",
       "\n",
       "   CRSArrTime UniqueCarrier  FlightNum  ...  CRSElapsedTime  ArrDelay  \\\n",
       "0        1944            US        112  ...             159       0.0   \n",
       "1        1944            US        112  ...             159       2.0   \n",
       "2        1944            US        112  ...             159     -10.0   \n",
       "3        1944            US        112  ...             159       7.0   \n",
       "4        1944            US        112  ...             159      -8.0   \n",
       "5        1944            US        112  ...             159       5.0   \n",
       "6        1944            US        112  ...             159       2.0   \n",
       "7        1944            US        112  ...             159     -10.0   \n",
       "8        1944            US        112  ...             159      58.0   \n",
       "9        1944            US        112  ...             159       2.0   \n",
       "\n",
       "   DepDelay  Origin Dest Distance  Cancelled  Diverted  \\\n",
       "0       4.0     TPA  SYR   1104.0          0         0   \n",
       "1      -1.0     TPA  SYR   1104.0          0         0   \n",
       "2       0.0     TPA  SYR   1104.0          0         0   \n",
       "3       4.0     TPA  SYR   1104.0          0         0   \n",
       "4      -2.0     TPA  SYR   1104.0          0         0   \n",
       "5       6.0     TPA  SYR   1104.0          0         0   \n",
       "6       6.0     TPA  SYR   1104.0          0         0   \n",
       "7      -1.0     TPA  SYR   1104.0          0         0   \n",
       "8      60.0     TPA  SYR   1104.0          0         0   \n",
       "9      -2.0     TPA  SYR   1104.0          0         0   \n",
       "\n",
       "                            UniqueCarrierDescription       DepDatetime  \n",
       "0  US Airways Inc. (Merged with America West 9/05...  1991-01-01 17:09  \n",
       "1  US Airways Inc. (Merged with America West 9/05...  1991-02-02 17:04  \n",
       "2  US Airways Inc. (Merged with America West 9/05...  1991-03-03 17:05  \n",
       "3  US Airways Inc. (Merged with America West 9/05...  1991-04-04 17:09  \n",
       "4  US Airways Inc. (Merged with America West 9/05...  1991-05-05 17:03  \n",
       "5  US Airways Inc. (Merged with America West 9/05...  1991-06-06 17:11  \n",
       "6  US Airways Inc. (Merged with America West 9/05...  1991-07-07 17:11  \n",
       "7  US Airways Inc. (Merged with America West 9/05...  1991-08-08 17:04  \n",
       "8  US Airways Inc. (Merged with America West 9/05...  1991-09-09 18:05  \n",
       "9  US Airways Inc. (Merged with America West 9/05...  1991-10-10 17:03  \n",
       "\n",
       "[10 rows x 21 columns]"
      ]
     },
     "execution_count": 69,
     "metadata": {},
     "output_type": "execute_result"
    }
   ],
   "source": [
    "df.head(10)"
   ]
  },
  {
   "cell_type": "markdown",
   "metadata": {},
   "source": [
    "<END of the 4 answer>"
   ]
  },
  {
   "cell_type": "markdown",
   "id": "c5f1fab9",
   "metadata": {},
   "source": [
    "**Q5.** Plot the histograms of arrival and departure delays. Adjust figure size, number of bins and type of scales."
   ]
  },
  {
   "cell_type": "code",
   "execution_count": 83,
   "metadata": {},
   "outputs": [
    {
     "data": {
      "text/plain": [
       "<AxesSubplot: title={'center': 'Hist of ArrDelay'}, ylabel='Frequency'>"
      ]
     },
     "execution_count": 83,
     "metadata": {},
     "output_type": "execute_result"
    },
    {
     "data": {
      "image/png": "[encoded data removed]",
      "text/plain": [
       "<Figure size 640x480 with 1 Axes>"
      ]
     },
     "metadata": {},
     "output_type": "display_data"
    }
   ],
   "source": [
    "df['ArrDelay'].plot(kind='hist', bins=1500, alpha=1, title='Hist of ArrDelay', xlim=[-100, 100], density=False)"
   ]
  },
  {
   "cell_type": "markdown",
   "metadata": {},
   "source": [
    "density false -> absolute frequencies \n",
    "this is a frequency of ArrTime for 5mln ~ rows "
   ]
  },
  {
   "cell_type": "code",
   "execution_count": 91,
   "metadata": {},
   "outputs": [
    {
     "data": {
      "text/plain": [
       "<AxesSubplot: title={'center': 'Hist of ArrDelay'}, ylabel='Frequency'>"
      ]
     },
     "execution_count": 91,
     "metadata": {},
     "output_type": "execute_result"
    },
    {
     "data": {
      "image/png": "[encoded data removed]",
      "text/plain": [
       "<Figure size 640x480 with 1 Axes>"
      ]
     },
     "metadata": {},
     "output_type": "display_data"
    }
   ],
   "source": [
    "df['ArrDelay'].plot(kind='hist', bins=1500, alpha=1, title='Hist of ArrDelay', xlim=[-100, 100], density=True)"
   ]
  },
  {
   "cell_type": "code",
   "execution_count": 88,
   "metadata": {},
   "outputs": [
    {
     "data": {
      "text/plain": [
       "(5076925, 21)"
      ]
     },
     "execution_count": 88,
     "metadata": {},
     "output_type": "execute_result"
    }
   ],
   "source": [
    "df.shape"
   ]
  },
  {
   "cell_type": "markdown",
   "metadata": {},
   "source": [
    "Departure Delays"
   ]
  },
  {
   "cell_type": "code",
   "execution_count": 6,
   "metadata": {},
   "outputs": [
    {
     "data": {
      "text/plain": [
       "<AxesSubplot: title={'center': 'Hist of ArrDelay'}, ylabel='Frequency'>"
      ]
     },
     "execution_count": 6,
     "metadata": {},
     "output_type": "execute_result"
    },
    {
     "data": {
      "image/png": "[encoded data removed]",
      "text/plain": [
       "<Figure size 640x480 with 1 Axes>"
      ]
     },
     "metadata": {},
     "output_type": "display_data"
    }
   ],
   "source": [
    "df['DepDelay'].plot(kind='hist', bins=1500, alpha=1, title='Hist of ArrDelay', xlim=[-75, 75], density=False)"
   ]
  },
  {
   "cell_type": "code",
   "execution_count": 7,
   "metadata": {},
   "outputs": [
    {
     "data": {
      "text/plain": [
       "<AxesSubplot: title={'center': 'Hist of ArrDelay'}, ylabel='Frequency'>"
      ]
     },
     "execution_count": 7,
     "metadata": {},
     "output_type": "execute_result"
    },
    {
     "data": {
      "image/png": "[encoded data removed]",
      "text/plain": [
       "<Figure size 640x480 with 1 Axes>"
      ]
     },
     "metadata": {},
     "output_type": "display_data"
    }
   ],
   "source": [
    "df['DepDelay'].plot(kind='hist', bins=1500, alpha=1, title='Hist of ArrDelay', xlim=[-75, 75], density=True)"
   ]
  },
  {
   "cell_type": "markdown",
   "metadata": {},
   "source": [
    "<END of the 5th answer>"
   ]
  },
  {
   "cell_type": "markdown",
   "id": "e2ff301c",
   "metadata": {},
   "source": [
    "**Q6.** Plot boxplots of arrival delays, grouped by \n",
    "* month\n",
    "* day of week\n",
    "* hour\n",
    "* carrier\n",
    "\n",
    "Answer question 1 from the coursework project file."
   ]
  },
  {
   "cell_type": "markdown",
   "metadata": {},
   "source": [
    "Month"
   ]
  },
  {
   "cell_type": "code",
   "execution_count": 13,
   "metadata": {},
   "outputs": [
    {
     "data": {
      "text/plain": [
       "1          AxesSubplot(0.1,0.736957;0.235294x0.163043)\n",
       "2     AxesSubplot(0.382353,0.736957;0.235294x0.163043)\n",
       "3     AxesSubplot(0.664706,0.736957;0.235294x0.163043)\n",
       "4          AxesSubplot(0.1,0.541304;0.235294x0.163043)\n",
       "5     AxesSubplot(0.382353,0.541304;0.235294x0.163043)\n",
       "6     AxesSubplot(0.664706,0.541304;0.235294x0.163043)\n",
       "7          AxesSubplot(0.1,0.345652;0.235294x0.163043)\n",
       "8     AxesSubplot(0.382353,0.345652;0.235294x0.163043)\n",
       "9     AxesSubplot(0.664706,0.345652;0.235294x0.163043)\n",
       "10             AxesSubplot(0.1,0.15;0.235294x0.163043)\n",
       "11        AxesSubplot(0.382353,0.15;0.235294x0.163043)\n",
       "12        AxesSubplot(0.664706,0.15;0.235294x0.163043)\n",
       "dtype: object"
      ]
     },
     "execution_count": 13,
     "metadata": {},
     "output_type": "execute_result"
    },
    {
     "data": {
      "image/png": "[encoded data removed]",
      "text/plain": [
       "<Figure size 640x480 with 12 Axes>"
      ]
     },
     "metadata": {},
     "output_type": "display_data"
    }
   ],
   "source": [
    "df.groupby(by='Month').boxplot(True, column='ArrDelay')"
   ]
  },
  {
   "cell_type": "code",
   "execution_count": 21,
   "metadata": {},
   "outputs": [
    {
     "data": {
      "text/html": [
       "<div>\n",
       "<style scoped>\n",
       "    .dataframe tbody tr th:only-of-type {\n",
       "        vertical-align: middle;\n",
       "    }\n",
       "\n",
       "    .dataframe tbody tr th {\n",
       "        vertical-align: top;\n",
       "    }\n",
       "\n",
       "    .dataframe thead th {\n",
       "        text-align: right;\n",
       "    }\n",
       "</style>\n",
       "<table border=\"1\" class=\"dataframe\">\n",
       "  <thead>\n",
       "    <tr style=\"text-align: right;\">\n",
       "      <th></th>\n",
       "      <th>count</th>\n",
       "      <th>mean</th>\n",
       "      <th>std</th>\n",
       "      <th>min</th>\n",
       "      <th>25%</th>\n",
       "      <th>50%</th>\n",
       "      <th>75%</th>\n",
       "      <th>max</th>\n",
       "    </tr>\n",
       "    <tr>\n",
       "      <th>Month</th>\n",
       "      <th></th>\n",
       "      <th></th>\n",
       "      <th></th>\n",
       "      <th></th>\n",
       "      <th></th>\n",
       "      <th></th>\n",
       "      <th></th>\n",
       "      <th></th>\n",
       "    </tr>\n",
       "  </thead>\n",
       "  <tbody>\n",
       "    <tr>\n",
       "      <th>1</th>\n",
       "      <td>416206.0</td>\n",
       "      <td>9.245960</td>\n",
       "      <td>27.962269</td>\n",
       "      <td>-1410.0</td>\n",
       "      <td>-5.0</td>\n",
       "      <td>3.0</td>\n",
       "      <td>14.0</td>\n",
       "      <td>1063.0</td>\n",
       "    </tr>\n",
       "    <tr>\n",
       "      <th>2</th>\n",
       "      <td>379661.0</td>\n",
       "      <td>4.319880</td>\n",
       "      <td>23.361086</td>\n",
       "      <td>-830.0</td>\n",
       "      <td>-7.0</td>\n",
       "      <td>0.0</td>\n",
       "      <td>9.0</td>\n",
       "      <td>1046.0</td>\n",
       "    </tr>\n",
       "    <tr>\n",
       "      <th>3</th>\n",
       "      <td>424281.0</td>\n",
       "      <td>5.234036</td>\n",
       "      <td>23.153931</td>\n",
       "      <td>-794.0</td>\n",
       "      <td>-6.0</td>\n",
       "      <td>1.0</td>\n",
       "      <td>10.0</td>\n",
       "      <td>946.0</td>\n",
       "    </tr>\n",
       "    <tr>\n",
       "      <th>4</th>\n",
       "      <td>418299.0</td>\n",
       "      <td>4.252473</td>\n",
       "      <td>22.495516</td>\n",
       "      <td>-702.0</td>\n",
       "      <td>-6.0</td>\n",
       "      <td>0.0</td>\n",
       "      <td>9.0</td>\n",
       "      <td>925.0</td>\n",
       "    </tr>\n",
       "    <tr>\n",
       "      <th>5</th>\n",
       "      <td>426500.0</td>\n",
       "      <td>4.518790</td>\n",
       "      <td>23.299756</td>\n",
       "      <td>-77.0</td>\n",
       "      <td>-6.0</td>\n",
       "      <td>0.0</td>\n",
       "      <td>8.0</td>\n",
       "      <td>1082.0</td>\n",
       "    </tr>\n",
       "    <tr>\n",
       "      <th>6</th>\n",
       "      <td>421876.0</td>\n",
       "      <td>3.525925</td>\n",
       "      <td>19.769558</td>\n",
       "      <td>-85.0</td>\n",
       "      <td>-6.0</td>\n",
       "      <td>0.0</td>\n",
       "      <td>8.0</td>\n",
       "      <td>1063.0</td>\n",
       "    </tr>\n",
       "    <tr>\n",
       "      <th>7</th>\n",
       "      <td>437977.0</td>\n",
       "      <td>4.439263</td>\n",
       "      <td>22.523685</td>\n",
       "      <td>-838.0</td>\n",
       "      <td>-6.0</td>\n",
       "      <td>0.0</td>\n",
       "      <td>8.0</td>\n",
       "      <td>744.0</td>\n",
       "    </tr>\n",
       "    <tr>\n",
       "      <th>8</th>\n",
       "      <td>438558.0</td>\n",
       "      <td>4.622741</td>\n",
       "      <td>20.759990</td>\n",
       "      <td>-835.0</td>\n",
       "      <td>-6.0</td>\n",
       "      <td>0.0</td>\n",
       "      <td>9.0</td>\n",
       "      <td>938.0</td>\n",
       "    </tr>\n",
       "    <tr>\n",
       "      <th>9</th>\n",
       "      <td>415003.0</td>\n",
       "      <td>1.889471</td>\n",
       "      <td>18.236771</td>\n",
       "      <td>-960.0</td>\n",
       "      <td>-7.0</td>\n",
       "      <td>-1.0</td>\n",
       "      <td>6.0</td>\n",
       "      <td>845.0</td>\n",
       "    </tr>\n",
       "    <tr>\n",
       "      <th>10</th>\n",
       "      <td>428638.0</td>\n",
       "      <td>4.671751</td>\n",
       "      <td>22.327813</td>\n",
       "      <td>-1395.0</td>\n",
       "      <td>-6.0</td>\n",
       "      <td>0.0</td>\n",
       "      <td>9.0</td>\n",
       "      <td>1188.0</td>\n",
       "    </tr>\n",
       "    <tr>\n",
       "      <th>11</th>\n",
       "      <td>398313.0</td>\n",
       "      <td>4.408046</td>\n",
       "      <td>21.621689</td>\n",
       "      <td>-818.0</td>\n",
       "      <td>-6.0</td>\n",
       "      <td>0.0</td>\n",
       "      <td>9.0</td>\n",
       "      <td>793.0</td>\n",
       "    </tr>\n",
       "    <tr>\n",
       "      <th>12</th>\n",
       "      <td>415523.0</td>\n",
       "      <td>5.689880</td>\n",
       "      <td>22.245179</td>\n",
       "      <td>-86.0</td>\n",
       "      <td>-6.0</td>\n",
       "      <td>1.0</td>\n",
       "      <td>11.0</td>\n",
       "      <td>997.0</td>\n",
       "    </tr>\n",
       "  </tbody>\n",
       "</table>\n",
       "</div>"
      ],
      "text/plain": [
       "          count      mean        std     min  25%  50%   75%     max\n",
       "Month                                                               \n",
       "1      416206.0  9.245960  27.962269 -1410.0 -5.0  3.0  14.0  1063.0\n",
       "2      379661.0  4.319880  23.361086  -830.0 -7.0  0.0   9.0  1046.0\n",
       "3      424281.0  5.234036  23.153931  -794.0 -6.0  1.0  10.0   946.0\n",
       "4      418299.0  4.252473  22.495516  -702.0 -6.0  0.0   9.0   925.0\n",
       "5      426500.0  4.518790  23.299756   -77.0 -6.0  0.0   8.0  1082.0\n",
       "6      421876.0  3.525925  19.769558   -85.0 -6.0  0.0   8.0  1063.0\n",
       "7      437977.0  4.439263  22.523685  -838.0 -6.0  0.0   8.0   744.0\n",
       "8      438558.0  4.622741  20.759990  -835.0 -6.0  0.0   9.0   938.0\n",
       "9      415003.0  1.889471  18.236771  -960.0 -7.0 -1.0   6.0   845.0\n",
       "10     428638.0  4.671751  22.327813 -1395.0 -6.0  0.0   9.0  1188.0\n",
       "11     398313.0  4.408046  21.621689  -818.0 -6.0  0.0   9.0   793.0\n",
       "12     415523.0  5.689880  22.245179   -86.0 -6.0  1.0  11.0   997.0"
      ]
     },
     "execution_count": 21,
     "metadata": {},
     "output_type": "execute_result"
    }
   ],
   "source": [
    "df.groupby(by='Month')['ArrDelay'].describe()"
   ]
  },
  {
   "cell_type": "markdown",
   "metadata": {},
   "source": [
    "Assuming outliers are independent from month, here we see that in general the ditribution is larger. However, shall be mentioned - from the graph it seems 1 month had the highest variation of ArrDelays"
   ]
  },
  {
   "cell_type": "markdown",
   "metadata": {},
   "source": [
    "Day of week"
   ]
  },
  {
   "cell_type": "code",
   "execution_count": 23,
   "metadata": {},
   "outputs": [
    {
     "data": {
      "text/plain": [
       "1         AxesSubplot(0.1,0.679412;0.235294x0.220588)\n",
       "2    AxesSubplot(0.382353,0.679412;0.235294x0.220588)\n",
       "3    AxesSubplot(0.664706,0.679412;0.235294x0.220588)\n",
       "4         AxesSubplot(0.1,0.414706;0.235294x0.220588)\n",
       "5    AxesSubplot(0.382353,0.414706;0.235294x0.220588)\n",
       "6    AxesSubplot(0.664706,0.414706;0.235294x0.220588)\n",
       "7             AxesSubplot(0.1,0.15;0.235294x0.220588)\n",
       "dtype: object"
      ]
     },
     "execution_count": 23,
     "metadata": {},
     "output_type": "execute_result"
    },
    {
     "data": {
      "image/png": "[encoded data removed]",
      "text/plain": [
       "<Figure size 640x480 with 9 Axes>"
      ]
     },
     "metadata": {},
     "output_type": "display_data"
    }
   ],
   "source": [
    "df.groupby(by='DayOfWeek').boxplot(True, column='ArrDelay')"
   ]
  },
  {
   "cell_type": "code",
   "execution_count": 25,
   "metadata": {},
   "outputs": [
    {
     "data": {
      "text/html": [
       "<div>\n",
       "<style scoped>\n",
       "    .dataframe tbody tr th:only-of-type {\n",
       "        vertical-align: middle;\n",
       "    }\n",
       "\n",
       "    .dataframe tbody tr th {\n",
       "        vertical-align: top;\n",
       "    }\n",
       "\n",
       "    .dataframe thead th {\n",
       "        text-align: right;\n",
       "    }\n",
       "</style>\n",
       "<table border=\"1\" class=\"dataframe\">\n",
       "  <thead>\n",
       "    <tr style=\"text-align: right;\">\n",
       "      <th></th>\n",
       "      <th>count</th>\n",
       "      <th>mean</th>\n",
       "      <th>std</th>\n",
       "      <th>min</th>\n",
       "      <th>25%</th>\n",
       "      <th>50%</th>\n",
       "      <th>75%</th>\n",
       "      <th>max</th>\n",
       "    </tr>\n",
       "    <tr>\n",
       "      <th>DayOfWeek</th>\n",
       "      <th></th>\n",
       "      <th></th>\n",
       "      <th></th>\n",
       "      <th></th>\n",
       "      <th></th>\n",
       "      <th></th>\n",
       "      <th></th>\n",
       "      <th></th>\n",
       "    </tr>\n",
       "  </thead>\n",
       "  <tbody>\n",
       "    <tr>\n",
       "      <th>1</th>\n",
       "      <td>739793.0</td>\n",
       "      <td>3.391235</td>\n",
       "      <td>20.241400</td>\n",
       "      <td>-1410.0</td>\n",
       "      <td>-6.0</td>\n",
       "      <td>0.0</td>\n",
       "      <td>8.0</td>\n",
       "      <td>1188.0</td>\n",
       "    </tr>\n",
       "    <tr>\n",
       "      <th>2</th>\n",
       "      <td>749400.0</td>\n",
       "      <td>4.168541</td>\n",
       "      <td>22.125701</td>\n",
       "      <td>-960.0</td>\n",
       "      <td>-6.0</td>\n",
       "      <td>0.0</td>\n",
       "      <td>8.0</td>\n",
       "      <td>938.0</td>\n",
       "    </tr>\n",
       "    <tr>\n",
       "      <th>3</th>\n",
       "      <td>736524.0</td>\n",
       "      <td>5.377385</td>\n",
       "      <td>22.525047</td>\n",
       "      <td>-838.0</td>\n",
       "      <td>-6.0</td>\n",
       "      <td>1.0</td>\n",
       "      <td>10.0</td>\n",
       "      <td>1046.0</td>\n",
       "    </tr>\n",
       "    <tr>\n",
       "      <th>4</th>\n",
       "      <td>731571.0</td>\n",
       "      <td>6.018254</td>\n",
       "      <td>22.549292</td>\n",
       "      <td>-1395.0</td>\n",
       "      <td>-5.0</td>\n",
       "      <td>1.0</td>\n",
       "      <td>10.0</td>\n",
       "      <td>1088.0</td>\n",
       "    </tr>\n",
       "    <tr>\n",
       "      <th>5</th>\n",
       "      <td>729834.0</td>\n",
       "      <td>6.789780</td>\n",
       "      <td>25.479435</td>\n",
       "      <td>-794.0</td>\n",
       "      <td>-5.0</td>\n",
       "      <td>1.0</td>\n",
       "      <td>11.0</td>\n",
       "      <td>1082.0</td>\n",
       "    </tr>\n",
       "    <tr>\n",
       "      <th>6</th>\n",
       "      <td>645638.0</td>\n",
       "      <td>3.186903</td>\n",
       "      <td>21.622173</td>\n",
       "      <td>-818.0</td>\n",
       "      <td>-7.0</td>\n",
       "      <td>-1.0</td>\n",
       "      <td>8.0</td>\n",
       "      <td>997.0</td>\n",
       "    </tr>\n",
       "    <tr>\n",
       "      <th>7</th>\n",
       "      <td>688075.0</td>\n",
       "      <td>4.028397</td>\n",
       "      <td>22.123027</td>\n",
       "      <td>-835.0</td>\n",
       "      <td>-7.0</td>\n",
       "      <td>0.0</td>\n",
       "      <td>9.0</td>\n",
       "      <td>1063.0</td>\n",
       "    </tr>\n",
       "  </tbody>\n",
       "</table>\n",
       "</div>"
      ],
      "text/plain": [
       "              count      mean        std     min  25%  50%   75%     max\n",
       "DayOfWeek                                                               \n",
       "1          739793.0  3.391235  20.241400 -1410.0 -6.0  0.0   8.0  1188.0\n",
       "2          749400.0  4.168541  22.125701  -960.0 -6.0  0.0   8.0   938.0\n",
       "3          736524.0  5.377385  22.525047  -838.0 -6.0  1.0  10.0  1046.0\n",
       "4          731571.0  6.018254  22.549292 -1395.0 -5.0  1.0  10.0  1088.0\n",
       "5          729834.0  6.789780  25.479435  -794.0 -5.0  1.0  11.0  1082.0\n",
       "6          645638.0  3.186903  21.622173  -818.0 -7.0 -1.0   8.0   997.0\n",
       "7          688075.0  4.028397  22.123027  -835.0 -7.0  0.0   9.0  1063.0"
      ]
     },
     "execution_count": 25,
     "metadata": {},
     "output_type": "execute_result"
    }
   ],
   "source": [
    "df.groupby(by='DayOfWeek')['ArrDelay'].describe()"
   ]
  },
  {
   "cell_type": "markdown",
   "metadata": {},
   "source": [
    "First day of the week seems to have the lowest variation of ArrDelays"
   ]
  },
  {
   "cell_type": "markdown",
   "metadata": {},
   "source": [
    "HOUR (in the dataset we don't have specifically column Hour).\n",
    "We could use any Time variable, but it seems more reasonable to use scheduled departure time (CRSDepTime). Intuition: we would like to see if controllable variable (by decision makers) have any effect on arrival delays."
   ]
  },
  {
   "cell_type": "code",
   "execution_count": 30,
   "metadata": {},
   "outputs": [
    {
     "data": {
      "text/plain": [
       "0           AxesSubplot(0.1,0.77069;0.137931x0.12931)\n",
       "1      AxesSubplot(0.265517,0.77069;0.137931x0.12931)\n",
       "2      AxesSubplot(0.431034,0.77069;0.137931x0.12931)\n",
       "3      AxesSubplot(0.596552,0.77069;0.137931x0.12931)\n",
       "4      AxesSubplot(0.762069,0.77069;0.137931x0.12931)\n",
       "5          AxesSubplot(0.1,0.615517;0.137931x0.12931)\n",
       "6     AxesSubplot(0.265517,0.615517;0.137931x0.12931)\n",
       "7     AxesSubplot(0.431034,0.615517;0.137931x0.12931)\n",
       "8     AxesSubplot(0.596552,0.615517;0.137931x0.12931)\n",
       "9     AxesSubplot(0.762069,0.615517;0.137931x0.12931)\n",
       "10         AxesSubplot(0.1,0.460345;0.137931x0.12931)\n",
       "11    AxesSubplot(0.265517,0.460345;0.137931x0.12931)\n",
       "12    AxesSubplot(0.431034,0.460345;0.137931x0.12931)\n",
       "13    AxesSubplot(0.596552,0.460345;0.137931x0.12931)\n",
       "14    AxesSubplot(0.762069,0.460345;0.137931x0.12931)\n",
       "15         AxesSubplot(0.1,0.305172;0.137931x0.12931)\n",
       "16    AxesSubplot(0.265517,0.305172;0.137931x0.12931)\n",
       "17    AxesSubplot(0.431034,0.305172;0.137931x0.12931)\n",
       "18    AxesSubplot(0.596552,0.305172;0.137931x0.12931)\n",
       "19    AxesSubplot(0.762069,0.305172;0.137931x0.12931)\n",
       "20             AxesSubplot(0.1,0.15;0.137931x0.12931)\n",
       "21        AxesSubplot(0.265517,0.15;0.137931x0.12931)\n",
       "22        AxesSubplot(0.431034,0.15;0.137931x0.12931)\n",
       "23        AxesSubplot(0.596552,0.15;0.137931x0.12931)\n",
       "24        AxesSubplot(0.762069,0.15;0.137931x0.12931)\n",
       "dtype: object"
      ]
     },
     "execution_count": 30,
     "metadata": {},
     "output_type": "execute_result"
    },
    {
     "data": {
      "image/png": "[encoded data removed]",
      "text/plain": [
       "<Figure size 640x480 with 25 Axes>"
      ]
     },
     "metadata": {},
     "output_type": "display_data"
    }
   ],
   "source": [
    "df.groupby(by=df['CRSDepTime'] // 100).boxplot(True, column='ArrDelay')"
   ]
  },
  {
   "cell_type": "code",
   "execution_count": 31,
   "metadata": {},
   "outputs": [
    {
     "data": {
      "text/html": [
       "<div>\n",
       "<style scoped>\n",
       "    .dataframe tbody tr th:only-of-type {\n",
       "        vertical-align: middle;\n",
       "    }\n",
       "\n",
       "    .dataframe tbody tr th {\n",
       "        vertical-align: top;\n",
       "    }\n",
       "\n",
       "    .dataframe thead th {\n",
       "        text-align: right;\n",
       "    }\n",
       "</style>\n",
       "<table border=\"1\" class=\"dataframe\">\n",
       "  <thead>\n",
       "    <tr style=\"text-align: right;\">\n",
       "      <th></th>\n",
       "      <th>Year</th>\n",
       "      <th>Month</th>\n",
       "      <th>DayofMonth</th>\n",
       "      <th>DayOfWeek</th>\n",
       "      <th>DepTime</th>\n",
       "      <th>CRSDepTime</th>\n",
       "      <th>ArrTime</th>\n",
       "      <th>CRSArrTime</th>\n",
       "      <th>UniqueCarrier</th>\n",
       "      <th>FlightNum</th>\n",
       "      <th>ActualElapsedTime</th>\n",
       "      <th>CRSElapsedTime</th>\n",
       "      <th>ArrDelay</th>\n",
       "      <th>DepDelay</th>\n",
       "      <th>Origin</th>\n",
       "      <th>Dest</th>\n",
       "      <th>Distance</th>\n",
       "      <th>Cancelled</th>\n",
       "      <th>Diverted</th>\n",
       "    </tr>\n",
       "  </thead>\n",
       "  <tbody>\n",
       "    <tr>\n",
       "      <th>5002031</th>\n",
       "      <td>1991</td>\n",
       "      <td>12</td>\n",
       "      <td>24</td>\n",
       "      <td>2</td>\n",
       "      <td>106.0</td>\n",
       "      <td>2400</td>\n",
       "      <td>145.0</td>\n",
       "      <td>34</td>\n",
       "      <td>AA</td>\n",
       "      <td>765</td>\n",
       "      <td>39.0</td>\n",
       "      <td>34</td>\n",
       "      <td>71.0</td>\n",
       "      <td>66.0</td>\n",
       "      <td>SMF</td>\n",
       "      <td>OAK</td>\n",
       "      <td>75.0</td>\n",
       "      <td>0</td>\n",
       "      <td>0</td>\n",
       "    </tr>\n",
       "  </tbody>\n",
       "</table>\n",
       "</div>"
      ],
      "text/plain": [
       "         Year  Month  DayofMonth  DayOfWeek  DepTime  CRSDepTime  ArrTime  \\\n",
       "5002031  1991     12          24          2    106.0        2400    145.0   \n",
       "\n",
       "         CRSArrTime UniqueCarrier  FlightNum  ActualElapsedTime  \\\n",
       "5002031          34            AA        765               39.0   \n",
       "\n",
       "         CRSElapsedTime  ArrDelay  DepDelay Origin Dest  Distance  Cancelled  \\\n",
       "5002031              34      71.0      66.0    SMF  OAK      75.0          0   \n",
       "\n",
       "         Diverted  \n",
       "5002031         0  "
      ]
     },
     "execution_count": 31,
     "metadata": {},
     "output_type": "execute_result"
    }
   ],
   "source": [
    "df[df['CRSDepTime'] >= 2400]"
   ]
  },
  {
   "cell_type": "markdown",
   "metadata": {},
   "source": [
    "Okey we expected to see hours from 0 to 23, but we see from 0 to 24, but if we look at the data on DepTime itself, we notice that the only vaue possible with 24 is 00:00 ~ 24:00\n",
    "So the first minute from [0:59].\n",
    "For a while let's make 2400 to 0000 or just 0 (since it is float)\n"
   ]
  },
  {
   "cell_type": "code",
   "execution_count": 32,
   "metadata": {},
   "outputs": [],
   "source": [
    "df_cleared = df\n",
    "df_cleared[df_cleared['CRSDepTime'] >= 2400] = 0"
   ]
  },
  {
   "cell_type": "code",
   "execution_count": 34,
   "metadata": {},
   "outputs": [
    {
     "data": {
      "text/plain": [
       "0           AxesSubplot(0.1,0.77069;0.137931x0.12931)\n",
       "1      AxesSubplot(0.265517,0.77069;0.137931x0.12931)\n",
       "2      AxesSubplot(0.431034,0.77069;0.137931x0.12931)\n",
       "3      AxesSubplot(0.596552,0.77069;0.137931x0.12931)\n",
       "4      AxesSubplot(0.762069,0.77069;0.137931x0.12931)\n",
       "5          AxesSubplot(0.1,0.615517;0.137931x0.12931)\n",
       "6     AxesSubplot(0.265517,0.615517;0.137931x0.12931)\n",
       "7     AxesSubplot(0.431034,0.615517;0.137931x0.12931)\n",
       "8     AxesSubplot(0.596552,0.615517;0.137931x0.12931)\n",
       "9     AxesSubplot(0.762069,0.615517;0.137931x0.12931)\n",
       "10         AxesSubplot(0.1,0.460345;0.137931x0.12931)\n",
       "11    AxesSubplot(0.265517,0.460345;0.137931x0.12931)\n",
       "12    AxesSubplot(0.431034,0.460345;0.137931x0.12931)\n",
       "13    AxesSubplot(0.596552,0.460345;0.137931x0.12931)\n",
       "14    AxesSubplot(0.762069,0.460345;0.137931x0.12931)\n",
       "15         AxesSubplot(0.1,0.305172;0.137931x0.12931)\n",
       "16    AxesSubplot(0.265517,0.305172;0.137931x0.12931)\n",
       "17    AxesSubplot(0.431034,0.305172;0.137931x0.12931)\n",
       "18    AxesSubplot(0.596552,0.305172;0.137931x0.12931)\n",
       "19    AxesSubplot(0.762069,0.305172;0.137931x0.12931)\n",
       "20             AxesSubplot(0.1,0.15;0.137931x0.12931)\n",
       "21        AxesSubplot(0.265517,0.15;0.137931x0.12931)\n",
       "22        AxesSubplot(0.431034,0.15;0.137931x0.12931)\n",
       "23        AxesSubplot(0.596552,0.15;0.137931x0.12931)\n",
       "dtype: object"
      ]
     },
     "execution_count": 34,
     "metadata": {},
     "output_type": "execute_result"
    },
    {
     "data": {
      "image/png": "[encoded data removed]",
      "text/plain": [
       "<Figure size 640x480 with 25 Axes>"
      ]
     },
     "metadata": {},
     "output_type": "display_data"
    }
   ],
   "source": [
    "df.groupby(by=df['CRSDepTime'] // 100).boxplot(True, column='ArrDelay')"
   ]
  },
  {
   "cell_type": "markdown",
   "metadata": {},
   "source": [
    "remark: I was planning to use copy of df, but i just refactored it and didn't notice"
   ]
  },
  {
   "cell_type": "markdown",
   "metadata": {},
   "source": [
    "CARRIER"
   ]
  },
  {
   "cell_type": "code",
   "execution_count": 35,
   "metadata": {},
   "outputs": [
    {
     "data": {
      "text/plain": [
       "0              AxesSubplot(0.1,0.736957;0.173913x0.163043)\n",
       "AA        AxesSubplot(0.308696,0.736957;0.173913x0.163043)\n",
       "AS        AxesSubplot(0.517391,0.736957;0.173913x0.163043)\n",
       "CO        AxesSubplot(0.726087,0.736957;0.173913x0.163043)\n",
       "DL             AxesSubplot(0.1,0.541304;0.173913x0.163043)\n",
       "HP        AxesSubplot(0.308696,0.541304;0.173913x0.163043)\n",
       "ML (1)    AxesSubplot(0.517391,0.541304;0.173913x0.163043)\n",
       "NW        AxesSubplot(0.726087,0.541304;0.173913x0.163043)\n",
       "PA (1)         AxesSubplot(0.1,0.345652;0.173913x0.163043)\n",
       "TW        AxesSubplot(0.308696,0.345652;0.173913x0.163043)\n",
       "UA        AxesSubplot(0.517391,0.345652;0.173913x0.163043)\n",
       "US        AxesSubplot(0.726087,0.345652;0.173913x0.163043)\n",
       "WN                 AxesSubplot(0.1,0.15;0.173913x0.163043)\n",
       "dtype: object"
      ]
     },
     "execution_count": 35,
     "metadata": {},
     "output_type": "execute_result"
    },
    {
     "data": {
      "image/png": "[encoded data removed]",
      "text/plain": [
       "<Figure size 640x480 with 16 Axes>"
      ]
     },
     "metadata": {},
     "output_type": "display_data"
    }
   ],
   "source": [
    "df.groupby(by='UniqueCarrier').boxplot(True, column='ArrDelay')"
   ]
  },
  {
   "cell_type": "code",
   "execution_count": 37,
   "metadata": {},
   "outputs": [
    {
     "data": {
      "text/html": [
       "<div>\n",
       "<style scoped>\n",
       "    .dataframe tbody tr th:only-of-type {\n",
       "        vertical-align: middle;\n",
       "    }\n",
       "\n",
       "    .dataframe tbody tr th {\n",
       "        vertical-align: top;\n",
       "    }\n",
       "\n",
       "    .dataframe thead th {\n",
       "        text-align: right;\n",
       "    }\n",
       "</style>\n",
       "<table border=\"1\" class=\"dataframe\">\n",
       "  <thead>\n",
       "    <tr style=\"text-align: right;\">\n",
       "      <th></th>\n",
       "      <th>count</th>\n",
       "      <th>mean</th>\n",
       "      <th>std</th>\n",
       "      <th>min</th>\n",
       "      <th>25%</th>\n",
       "      <th>50%</th>\n",
       "      <th>75%</th>\n",
       "      <th>max</th>\n",
       "    </tr>\n",
       "    <tr>\n",
       "      <th>UniqueCarrier</th>\n",
       "      <th></th>\n",
       "      <th></th>\n",
       "      <th></th>\n",
       "      <th></th>\n",
       "      <th></th>\n",
       "      <th></th>\n",
       "      <th></th>\n",
       "      <th></th>\n",
       "    </tr>\n",
       "  </thead>\n",
       "  <tbody>\n",
       "    <tr>\n",
       "      <th>0</th>\n",
       "      <td>1.0</td>\n",
       "      <td>0.000000</td>\n",
       "      <td>NaN</td>\n",
       "      <td>0.0</td>\n",
       "      <td>0.0</td>\n",
       "      <td>0.0</td>\n",
       "      <td>0.0</td>\n",
       "      <td>0.0</td>\n",
       "    </tr>\n",
       "    <tr>\n",
       "      <th>AA</th>\n",
       "      <td>718043.0</td>\n",
       "      <td>3.870342</td>\n",
       "      <td>24.159146</td>\n",
       "      <td>-1410.0</td>\n",
       "      <td>-8.0</td>\n",
       "      <td>-1.0</td>\n",
       "      <td>8.0</td>\n",
       "      <td>1188.0</td>\n",
       "    </tr>\n",
       "    <tr>\n",
       "      <th>AS</th>\n",
       "      <td>97577.0</td>\n",
       "      <td>4.297898</td>\n",
       "      <td>18.689077</td>\n",
       "      <td>-86.0</td>\n",
       "      <td>-5.0</td>\n",
       "      <td>0.0</td>\n",
       "      <td>8.0</td>\n",
       "      <td>630.0</td>\n",
       "    </tr>\n",
       "    <tr>\n",
       "      <th>CO</th>\n",
       "      <td>419702.0</td>\n",
       "      <td>4.544000</td>\n",
       "      <td>25.131757</td>\n",
       "      <td>-960.0</td>\n",
       "      <td>-8.0</td>\n",
       "      <td>0.0</td>\n",
       "      <td>10.0</td>\n",
       "      <td>1088.0</td>\n",
       "    </tr>\n",
       "    <tr>\n",
       "      <th>DL</th>\n",
       "      <td>867414.0</td>\n",
       "      <td>6.724782</td>\n",
       "      <td>21.827121</td>\n",
       "      <td>-838.0</td>\n",
       "      <td>-4.0</td>\n",
       "      <td>2.0</td>\n",
       "      <td>11.0</td>\n",
       "      <td>600.0</td>\n",
       "    </tr>\n",
       "    <tr>\n",
       "      <th>HP</th>\n",
       "      <td>217218.0</td>\n",
       "      <td>4.934844</td>\n",
       "      <td>20.675005</td>\n",
       "      <td>-58.0</td>\n",
       "      <td>-4.0</td>\n",
       "      <td>1.0</td>\n",
       "      <td>8.0</td>\n",
       "      <td>738.0</td>\n",
       "    </tr>\n",
       "    <tr>\n",
       "      <th>ML (1)</th>\n",
       "      <td>69119.0</td>\n",
       "      <td>4.747609</td>\n",
       "      <td>26.976582</td>\n",
       "      <td>-144.0</td>\n",
       "      <td>-7.0</td>\n",
       "      <td>0.0</td>\n",
       "      <td>8.0</td>\n",
       "      <td>584.0</td>\n",
       "    </tr>\n",
       "    <tr>\n",
       "      <th>NW</th>\n",
       "      <td>456370.0</td>\n",
       "      <td>1.728451</td>\n",
       "      <td>22.360334</td>\n",
       "      <td>-59.0</td>\n",
       "      <td>-9.0</td>\n",
       "      <td>-2.0</td>\n",
       "      <td>6.0</td>\n",
       "      <td>926.0</td>\n",
       "    </tr>\n",
       "    <tr>\n",
       "      <th>PA (1)</th>\n",
       "      <td>63647.0</td>\n",
       "      <td>0.721841</td>\n",
       "      <td>25.594844</td>\n",
       "      <td>-143.0</td>\n",
       "      <td>-12.0</td>\n",
       "      <td>-4.0</td>\n",
       "      <td>7.0</td>\n",
       "      <td>749.0</td>\n",
       "    </tr>\n",
       "    <tr>\n",
       "      <th>TW</th>\n",
       "      <td>228003.0</td>\n",
       "      <td>5.003425</td>\n",
       "      <td>22.906754</td>\n",
       "      <td>-76.0</td>\n",
       "      <td>-7.0</td>\n",
       "      <td>0.0</td>\n",
       "      <td>11.0</td>\n",
       "      <td>527.0</td>\n",
       "    </tr>\n",
       "    <tr>\n",
       "      <th>UA</th>\n",
       "      <td>619565.0</td>\n",
       "      <td>6.660935</td>\n",
       "      <td>26.302941</td>\n",
       "      <td>-75.0</td>\n",
       "      <td>-7.0</td>\n",
       "      <td>0.0</td>\n",
       "      <td>11.0</td>\n",
       "      <td>889.0</td>\n",
       "    </tr>\n",
       "    <tr>\n",
       "      <th>US</th>\n",
       "      <td>898589.0</td>\n",
       "      <td>3.923509</td>\n",
       "      <td>18.201980</td>\n",
       "      <td>-59.0</td>\n",
       "      <td>-5.0</td>\n",
       "      <td>0.0</td>\n",
       "      <td>8.0</td>\n",
       "      <td>485.0</td>\n",
       "    </tr>\n",
       "    <tr>\n",
       "      <th>WN</th>\n",
       "      <td>365587.0</td>\n",
       "      <td>4.961744</td>\n",
       "      <td>19.109101</td>\n",
       "      <td>-1089.0</td>\n",
       "      <td>-5.0</td>\n",
       "      <td>0.0</td>\n",
       "      <td>8.0</td>\n",
       "      <td>420.0</td>\n",
       "    </tr>\n",
       "  </tbody>\n",
       "</table>\n",
       "</div>"
      ],
      "text/plain": [
       "                  count      mean        std     min   25%  50%   75%     max\n",
       "UniqueCarrier                                                                \n",
       "0                   1.0  0.000000        NaN     0.0   0.0  0.0   0.0     0.0\n",
       "AA             718043.0  3.870342  24.159146 -1410.0  -8.0 -1.0   8.0  1188.0\n",
       "AS              97577.0  4.297898  18.689077   -86.0  -5.0  0.0   8.0   630.0\n",
       "CO             419702.0  4.544000  25.131757  -960.0  -8.0  0.0  10.0  1088.0\n",
       "DL             867414.0  6.724782  21.827121  -838.0  -4.0  2.0  11.0   600.0\n",
       "HP             217218.0  4.934844  20.675005   -58.0  -4.0  1.0   8.0   738.0\n",
       "ML (1)          69119.0  4.747609  26.976582  -144.0  -7.0  0.0   8.0   584.0\n",
       "NW             456370.0  1.728451  22.360334   -59.0  -9.0 -2.0   6.0   926.0\n",
       "PA (1)          63647.0  0.721841  25.594844  -143.0 -12.0 -4.0   7.0   749.0\n",
       "TW             228003.0  5.003425  22.906754   -76.0  -7.0  0.0  11.0   527.0\n",
       "UA             619565.0  6.660935  26.302941   -75.0  -7.0  0.0  11.0   889.0\n",
       "US             898589.0  3.923509  18.201980   -59.0  -5.0  0.0   8.0   485.0\n",
       "WN             365587.0  4.961744  19.109101 -1089.0  -5.0  0.0   8.0   420.0"
      ]
     },
     "execution_count": 37,
     "metadata": {},
     "output_type": "execute_result"
    }
   ],
   "source": [
    "df.groupby(by='UniqueCarrier')['ArrDelay'].describe()"
   ]
  },
  {
   "cell_type": "markdown",
   "metadata": {},
   "source": [
    "AA, CO, NW showed higher variation"
   ]
  },
  {
   "cell_type": "markdown",
   "id": "540efced",
   "metadata": {},
   "source": [
    "**Q7.** Add column with ages of planes. Do older planes suffer more delays? Plot some graphs justifying your answer."
   ]
  },
  {
   "cell_type": "code",
   "execution_count": 38,
   "metadata": {},
   "outputs": [
    {
     "data": {
      "text/plain": [
       "Index(['Year', 'Month', 'DayofMonth', 'DayOfWeek', 'DepTime', 'CRSDepTime',\n",
       "       'ArrTime', 'CRSArrTime', 'UniqueCarrier', 'FlightNum',\n",
       "       'ActualElapsedTime', 'CRSElapsedTime', 'ArrDelay', 'DepDelay', 'Origin',\n",
       "       'Dest', 'Distance', 'Cancelled', 'Diverted'],\n",
       "      dtype='object')"
      ]
     },
     "execution_count": 38,
     "metadata": {},
     "output_type": "execute_result"
    }
   ],
   "source": [
    "df.columns"
   ]
  },
  {
   "cell_type": "markdown",
   "metadata": {},
   "source": [
    "The only way to solve this question is to use foreign keys (TailNum) from wich i could merge needed data from plane-data.csv\n",
    "I'm lucky fellow tho i don't have this data (initially column has only Nans)"
   ]
  },
  {
   "cell_type": "markdown",
   "metadata": {},
   "source": [
    "Therefore this is the end of my answers. Now i'll refactor them to make more structured sequence"
   ]
  }
 ],
 "metadata": {
  "kernelspec": {
   "display_name": "Python 3.10.9 64-bit (microsoft store)",
   "language": "python",
   "name": "python3"
  },
  "language_info": {
   "codemirror_mode": {
    "name": "ipython",
    "version": 3
   },
   "file_extension": ".py",
   "mimetype": "text/x-python",
   "name": "python",
   "nbconvert_exporter": "python",
   "pygments_lexer": "ipython3",
   "version": "3.10.9"
  },
  "vscode": {
   "interpreter": {
    "hash": "3b7e9cb8e453d6cda0fe8c8dd13f891a1f09162f0e7c66ffeae7751a7aecf00d"
   }
  }
 },
 "nbformat": 4,
 "nbformat_minor": 0
}
