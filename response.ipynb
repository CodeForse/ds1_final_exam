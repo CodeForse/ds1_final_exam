{
 "cells": [
  {
   "cell_type": "markdown",
   "metadata": {
    "collapsed": false
   },
   "source": [
    "here mine imports"
   ]
  },
  {
   "cell_type": "code",
   "execution_count": 1,
   "metadata": {
    "collapsed": true
   },
   "outputs": [],
   "source": [
    "import pandas as pd \n",
    "import matplotlib.pyplot as plt"
   ]
  },
  {
   "cell_type": "code",
   "execution_count": 37,
   "metadata": {
    "collapsed": false
   },
   "outputs": [],
   "source": [
    "df = pd.read_csv('./data/1991.csv')"
   ]
  },
  {
   "cell_type": "code",
   "execution_count": 10,
   "metadata": {},
   "outputs": [
    {
     "data": {
      "text/plain": [
       "Index(['Year', 'Month', 'DayofMonth', 'DayOfWeek', 'DepTime', 'CRSDepTime',\n",
       "       'ArrTime', 'CRSArrTime', 'UniqueCarrier', 'FlightNum', 'TailNum',\n",
       "       'ActualElapsedTime', 'CRSElapsedTime', 'AirTime', 'ArrDelay',\n",
       "       'DepDelay', 'Origin', 'Dest', 'Distance', 'TaxiIn', 'TaxiOut',\n",
       "       'Cancelled', 'CancellationCode', 'Diverted', 'CarrierDelay',\n",
       "       'WeatherDelay', 'NASDelay', 'SecurityDelay', 'LateAircraftDelay'],\n",
       "      dtype='object')"
      ]
     },
     "execution_count": 10,
     "metadata": {},
     "output_type": "execute_result"
    }
   ],
   "source": [
    "df.columns"
   ]
  },
  {
   "cell_type": "code",
   "execution_count": 8,
   "metadata": {},
   "outputs": [
    {
     "data": {
      "text/plain": [
       "(5076925, 29)"
      ]
     },
     "execution_count": 8,
     "metadata": {},
     "output_type": "execute_result"
    }
   ],
   "source": [
    "df.shape"
   ]
  },
  {
   "cell_type": "markdown",
   "metadata": {},
   "source": [
    "**Q0.** Examine how many missing values there are in different columns of your dataset. Remove columns with totally missing values."
   ]
  },
  {
   "cell_type": "code",
   "execution_count": 6,
   "metadata": {},
   "outputs": [
    {
     "name": "stdout",
     "output_type": "stream",
     "text": [
      "0\n",
      "0\n",
      "0\n",
      "0\n",
      "43505\n",
      "0\n",
      "56090\n",
      "0\n",
      "0\n",
      "0\n",
      "56090\n",
      "0\n",
      "56090\n",
      "43505\n",
      "0\n",
      "0\n",
      "26261\n",
      "0\n",
      "0\n"
     ]
    }
   ],
   "source": [
    "for column_name in df.columns:\n",
    "    print(df[column_name].isnull().sum())"
   ]
  },
  {
   "cell_type": "code",
   "execution_count": 16,
   "metadata": {},
   "outputs": [
    {
     "name": "stdout",
     "output_type": "stream",
     "text": [
      "TailNum\n",
      "AirTime\n",
      "TaxiIn\n",
      "TaxiOut\n",
      "CancellationCode\n",
      "CarrierDelay\n",
      "WeatherDelay\n",
      "NASDelay\n",
      "SecurityDelay\n",
      "LateAircraftDelay\n"
     ]
    }
   ],
   "source": [
    "for column_name in df.columns:\n",
    "    if df[column_name].isnull().sum() == df.shape[0]:\n",
    "        print(column_name)"
   ]
  },
  {
   "cell_type": "code",
   "execution_count": 38,
   "metadata": {},
   "outputs": [
    {
     "name": "stderr",
     "output_type": "stream",
     "text": [
      "C:\\Users\\User\\AppData\\Local\\Temp\\ipykernel_15876\\102169749.py:1: FutureWarning: In a future version of pandas all arguments of DataFrame.dropna will be keyword-only.\n",
      "  df = df.dropna('columns', how='all')\n"
     ]
    }
   ],
   "source": [
    "df = df.dropna('columns', how='all')"
   ]
  },
  {
   "cell_type": "code",
   "execution_count": 20,
   "metadata": {},
   "outputs": [
    {
     "data": {
      "text/plain": [
       "(5076925, 19)"
      ]
     },
     "execution_count": 20,
     "metadata": {},
     "output_type": "execute_result"
    }
   ],
   "source": [
    "df.shape # now only 19/29 are left"
   ]
  },
  {
   "cell_type": "markdown",
   "id": "674cb8d8",
   "metadata": {},
   "source": [
    "**Q1.** Visualize the correlation matrix of the numeric features of your dataset. Find top-10 of the most correlated pairs of columns. Can you explain why are they highly correlated?"
   ]
  },
  {
   "cell_type": "code",
   "execution_count": 21,
   "metadata": {},
   "outputs": [
    {
     "name": "stderr",
     "output_type": "stream",
     "text": [
      "C:\\Users\\User\\AppData\\Local\\Temp\\ipykernel_9896\\1134722465.py:1: FutureWarning: The default value of numeric_only in DataFrame.corr is deprecated. In a future version, it will default to False. Select only valid columns or specify the value of numeric_only to silence this warning.\n",
      "  df.corr()\n"
     ]
    },
    {
     "data": {
      "text/html": [
       "<div>\n",
       "<style scoped>\n",
       "    .dataframe tbody tr th:only-of-type {\n",
       "        vertical-align: middle;\n",
       "    }\n",
       "\n",
       "    .dataframe tbody tr th {\n",
       "        vertical-align: top;\n",
       "    }\n",
       "\n",
       "    .dataframe thead th {\n",
       "        text-align: right;\n",
       "    }\n",
       "</style>\n",
       "<table border=\"1\" class=\"dataframe\">\n",
       "  <thead>\n",
       "    <tr style=\"text-align: right;\">\n",
       "      <th></th>\n",
       "      <th>Year</th>\n",
       "      <th>Month</th>\n",
       "      <th>DayofMonth</th>\n",
       "      <th>DayOfWeek</th>\n",
       "      <th>DepTime</th>\n",
       "      <th>CRSDepTime</th>\n",
       "      <th>ArrTime</th>\n",
       "      <th>CRSArrTime</th>\n",
       "      <th>FlightNum</th>\n",
       "      <th>ActualElapsedTime</th>\n",
       "      <th>CRSElapsedTime</th>\n",
       "      <th>ArrDelay</th>\n",
       "      <th>DepDelay</th>\n",
       "      <th>Distance</th>\n",
       "      <th>Cancelled</th>\n",
       "      <th>Diverted</th>\n",
       "    </tr>\n",
       "  </thead>\n",
       "  <tbody>\n",
       "    <tr>\n",
       "      <th>Year</th>\n",
       "      <td>NaN</td>\n",
       "      <td>NaN</td>\n",
       "      <td>NaN</td>\n",
       "      <td>NaN</td>\n",
       "      <td>NaN</td>\n",
       "      <td>NaN</td>\n",
       "      <td>NaN</td>\n",
       "      <td>NaN</td>\n",
       "      <td>NaN</td>\n",
       "      <td>NaN</td>\n",
       "      <td>NaN</td>\n",
       "      <td>NaN</td>\n",
       "      <td>NaN</td>\n",
       "      <td>NaN</td>\n",
       "      <td>NaN</td>\n",
       "      <td>NaN</td>\n",
       "    </tr>\n",
       "    <tr>\n",
       "      <th>Month</th>\n",
       "      <td>NaN</td>\n",
       "      <td>1.000000</td>\n",
       "      <td>0.006707</td>\n",
       "      <td>-0.001769</td>\n",
       "      <td>-0.003813</td>\n",
       "      <td>-0.001934</td>\n",
       "      <td>-0.002384</td>\n",
       "      <td>-0.001838</td>\n",
       "      <td>0.016787</td>\n",
       "      <td>0.001087</td>\n",
       "      <td>0.002217</td>\n",
       "      <td>-0.028631</td>\n",
       "      <td>-0.029289</td>\n",
       "      <td>0.010559</td>\n",
       "      <td>-0.031704</td>\n",
       "      <td>-0.006695</td>\n",
       "    </tr>\n",
       "    <tr>\n",
       "      <th>DayofMonth</th>\n",
       "      <td>NaN</td>\n",
       "      <td>0.006707</td>\n",
       "      <td>1.000000</td>\n",
       "      <td>0.005891</td>\n",
       "      <td>-0.002353</td>\n",
       "      <td>-0.001550</td>\n",
       "      <td>-0.001718</td>\n",
       "      <td>-0.001005</td>\n",
       "      <td>0.001378</td>\n",
       "      <td>0.000853</td>\n",
       "      <td>0.001193</td>\n",
       "      <td>-0.005526</td>\n",
       "      <td>-0.005544</td>\n",
       "      <td>0.001125</td>\n",
       "      <td>-0.011076</td>\n",
       "      <td>-0.000952</td>\n",
       "    </tr>\n",
       "    <tr>\n",
       "      <th>DayOfWeek</th>\n",
       "      <td>NaN</td>\n",
       "      <td>-0.001769</td>\n",
       "      <td>0.005891</td>\n",
       "      <td>1.000000</td>\n",
       "      <td>0.005262</td>\n",
       "      <td>0.003906</td>\n",
       "      <td>0.006740</td>\n",
       "      <td>0.006716</td>\n",
       "      <td>0.007402</td>\n",
       "      <td>0.009725</td>\n",
       "      <td>0.014204</td>\n",
       "      <td>0.006240</td>\n",
       "      <td>0.020536</td>\n",
       "      <td>0.014389</td>\n",
       "      <td>-0.006978</td>\n",
       "      <td>0.000521</td>\n",
       "    </tr>\n",
       "    <tr>\n",
       "      <th>DepTime</th>\n",
       "      <td>NaN</td>\n",
       "      <td>-0.003813</td>\n",
       "      <td>-0.002353</td>\n",
       "      <td>0.005262</td>\n",
       "      <td>1.000000</td>\n",
       "      <td>0.984100</td>\n",
       "      <td>0.793693</td>\n",
       "      <td>0.821491</td>\n",
       "      <td>0.016760</td>\n",
       "      <td>-0.046212</td>\n",
       "      <td>-0.043425</td>\n",
       "      <td>0.108290</td>\n",
       "      <td>0.128147</td>\n",
       "      <td>-0.050281</td>\n",
       "      <td>NaN</td>\n",
       "      <td>0.002173</td>\n",
       "    </tr>\n",
       "    <tr>\n",
       "      <th>CRSDepTime</th>\n",
       "      <td>NaN</td>\n",
       "      <td>-0.001934</td>\n",
       "      <td>-0.001550</td>\n",
       "      <td>0.003906</td>\n",
       "      <td>0.984100</td>\n",
       "      <td>1.000000</td>\n",
       "      <td>0.785386</td>\n",
       "      <td>0.819418</td>\n",
       "      <td>0.018151</td>\n",
       "      <td>-0.050496</td>\n",
       "      <td>-0.046813</td>\n",
       "      <td>0.077316</td>\n",
       "      <td>0.095680</td>\n",
       "      <td>-0.053210</td>\n",
       "      <td>-0.003737</td>\n",
       "      <td>-0.001116</td>\n",
       "    </tr>\n",
       "    <tr>\n",
       "      <th>ArrTime</th>\n",
       "      <td>NaN</td>\n",
       "      <td>-0.002384</td>\n",
       "      <td>-0.001718</td>\n",
       "      <td>0.006740</td>\n",
       "      <td>0.793693</td>\n",
       "      <td>0.785386</td>\n",
       "      <td>1.000000</td>\n",
       "      <td>0.944741</td>\n",
       "      <td>0.011021</td>\n",
       "      <td>0.058332</td>\n",
       "      <td>0.056374</td>\n",
       "      <td>0.070468</td>\n",
       "      <td>0.071552</td>\n",
       "      <td>0.046770</td>\n",
       "      <td>NaN</td>\n",
       "      <td>NaN</td>\n",
       "    </tr>\n",
       "    <tr>\n",
       "      <th>CRSArrTime</th>\n",
       "      <td>NaN</td>\n",
       "      <td>-0.001838</td>\n",
       "      <td>-0.001005</td>\n",
       "      <td>0.006716</td>\n",
       "      <td>0.821491</td>\n",
       "      <td>0.819418</td>\n",
       "      <td>0.944741</td>\n",
       "      <td>1.000000</td>\n",
       "      <td>0.009707</td>\n",
       "      <td>0.059340</td>\n",
       "      <td>0.061840</td>\n",
       "      <td>0.081904</td>\n",
       "      <td>0.095566</td>\n",
       "      <td>0.052129</td>\n",
       "      <td>-0.007040</td>\n",
       "      <td>0.000519</td>\n",
       "    </tr>\n",
       "    <tr>\n",
       "      <th>FlightNum</th>\n",
       "      <td>NaN</td>\n",
       "      <td>0.016787</td>\n",
       "      <td>0.001378</td>\n",
       "      <td>0.007402</td>\n",
       "      <td>0.016760</td>\n",
       "      <td>0.018151</td>\n",
       "      <td>0.011021</td>\n",
       "      <td>0.009707</td>\n",
       "      <td>1.000000</td>\n",
       "      <td>-0.166403</td>\n",
       "      <td>-0.169189</td>\n",
       "      <td>-0.016325</td>\n",
       "      <td>-0.024913</td>\n",
       "      <td>-0.172730</td>\n",
       "      <td>0.000292</td>\n",
       "      <td>-0.005367</td>\n",
       "    </tr>\n",
       "    <tr>\n",
       "      <th>ActualElapsedTime</th>\n",
       "      <td>NaN</td>\n",
       "      <td>0.001087</td>\n",
       "      <td>0.000853</td>\n",
       "      <td>0.009725</td>\n",
       "      <td>-0.046212</td>\n",
       "      <td>-0.050496</td>\n",
       "      <td>0.058332</td>\n",
       "      <td>0.059340</td>\n",
       "      <td>-0.166403</td>\n",
       "      <td>1.000000</td>\n",
       "      <td>0.984070</td>\n",
       "      <td>0.107073</td>\n",
       "      <td>0.057504</td>\n",
       "      <td>0.973699</td>\n",
       "      <td>NaN</td>\n",
       "      <td>NaN</td>\n",
       "    </tr>\n",
       "    <tr>\n",
       "      <th>CRSElapsedTime</th>\n",
       "      <td>NaN</td>\n",
       "      <td>0.002217</td>\n",
       "      <td>0.001193</td>\n",
       "      <td>0.014204</td>\n",
       "      <td>-0.043425</td>\n",
       "      <td>-0.046813</td>\n",
       "      <td>0.056374</td>\n",
       "      <td>0.061840</td>\n",
       "      <td>-0.169189</td>\n",
       "      <td>0.984070</td>\n",
       "      <td>1.000000</td>\n",
       "      <td>0.008692</td>\n",
       "      <td>0.049605</td>\n",
       "      <td>0.985106</td>\n",
       "      <td>-0.017767</td>\n",
       "      <td>0.021143</td>\n",
       "    </tr>\n",
       "    <tr>\n",
       "      <th>ArrDelay</th>\n",
       "      <td>NaN</td>\n",
       "      <td>-0.028631</td>\n",
       "      <td>-0.005526</td>\n",
       "      <td>0.006240</td>\n",
       "      <td>0.108290</td>\n",
       "      <td>0.077316</td>\n",
       "      <td>0.070468</td>\n",
       "      <td>0.081904</td>\n",
       "      <td>-0.016325</td>\n",
       "      <td>0.107073</td>\n",
       "      <td>0.008692</td>\n",
       "      <td>1.000000</td>\n",
       "      <td>0.783604</td>\n",
       "      <td>0.019171</td>\n",
       "      <td>NaN</td>\n",
       "      <td>NaN</td>\n",
       "    </tr>\n",
       "    <tr>\n",
       "      <th>DepDelay</th>\n",
       "      <td>NaN</td>\n",
       "      <td>-0.029289</td>\n",
       "      <td>-0.005544</td>\n",
       "      <td>0.020536</td>\n",
       "      <td>0.128147</td>\n",
       "      <td>0.095680</td>\n",
       "      <td>0.071552</td>\n",
       "      <td>0.095566</td>\n",
       "      <td>-0.024913</td>\n",
       "      <td>0.057504</td>\n",
       "      <td>0.049605</td>\n",
       "      <td>0.783604</td>\n",
       "      <td>1.000000</td>\n",
       "      <td>0.047221</td>\n",
       "      <td>NaN</td>\n",
       "      <td>0.064323</td>\n",
       "    </tr>\n",
       "    <tr>\n",
       "      <th>Distance</th>\n",
       "      <td>NaN</td>\n",
       "      <td>0.010559</td>\n",
       "      <td>0.001125</td>\n",
       "      <td>0.014389</td>\n",
       "      <td>-0.050281</td>\n",
       "      <td>-0.053210</td>\n",
       "      <td>0.046770</td>\n",
       "      <td>0.052129</td>\n",
       "      <td>-0.172730</td>\n",
       "      <td>0.973699</td>\n",
       "      <td>0.985106</td>\n",
       "      <td>0.019171</td>\n",
       "      <td>0.047221</td>\n",
       "      <td>1.000000</td>\n",
       "      <td>-0.020086</td>\n",
       "      <td>0.021254</td>\n",
       "    </tr>\n",
       "    <tr>\n",
       "      <th>Cancelled</th>\n",
       "      <td>NaN</td>\n",
       "      <td>-0.031704</td>\n",
       "      <td>-0.011076</td>\n",
       "      <td>-0.006978</td>\n",
       "      <td>NaN</td>\n",
       "      <td>-0.003737</td>\n",
       "      <td>NaN</td>\n",
       "      <td>-0.007040</td>\n",
       "      <td>0.000292</td>\n",
       "      <td>NaN</td>\n",
       "      <td>-0.017767</td>\n",
       "      <td>NaN</td>\n",
       "      <td>NaN</td>\n",
       "      <td>-0.020086</td>\n",
       "      <td>1.000000</td>\n",
       "      <td>-0.004635</td>\n",
       "    </tr>\n",
       "    <tr>\n",
       "      <th>Diverted</th>\n",
       "      <td>NaN</td>\n",
       "      <td>-0.006695</td>\n",
       "      <td>-0.000952</td>\n",
       "      <td>0.000521</td>\n",
       "      <td>0.002173</td>\n",
       "      <td>-0.001116</td>\n",
       "      <td>NaN</td>\n",
       "      <td>0.000519</td>\n",
       "      <td>-0.005367</td>\n",
       "      <td>NaN</td>\n",
       "      <td>0.021143</td>\n",
       "      <td>NaN</td>\n",
       "      <td>0.064323</td>\n",
       "      <td>0.021254</td>\n",
       "      <td>-0.004635</td>\n",
       "      <td>1.000000</td>\n",
       "    </tr>\n",
       "  </tbody>\n",
       "</table>\n",
       "</div>"
      ],
      "text/plain": [
       "                   Year     Month  DayofMonth  DayOfWeek   DepTime  \\\n",
       "Year                NaN       NaN         NaN        NaN       NaN   \n",
       "Month               NaN  1.000000    0.006707  -0.001769 -0.003813   \n",
       "DayofMonth          NaN  0.006707    1.000000   0.005891 -0.002353   \n",
       "DayOfWeek           NaN -0.001769    0.005891   1.000000  0.005262   \n",
       "DepTime             NaN -0.003813   -0.002353   0.005262  1.000000   \n",
       "CRSDepTime          NaN -0.001934   -0.001550   0.003906  0.984100   \n",
       "ArrTime             NaN -0.002384   -0.001718   0.006740  0.793693   \n",
       "CRSArrTime          NaN -0.001838   -0.001005   0.006716  0.821491   \n",
       "FlightNum           NaN  0.016787    0.001378   0.007402  0.016760   \n",
       "ActualElapsedTime   NaN  0.001087    0.000853   0.009725 -0.046212   \n",
       "CRSElapsedTime      NaN  0.002217    0.001193   0.014204 -0.043425   \n",
       "ArrDelay            NaN -0.028631   -0.005526   0.006240  0.108290   \n",
       "DepDelay            NaN -0.029289   -0.005544   0.020536  0.128147   \n",
       "Distance            NaN  0.010559    0.001125   0.014389 -0.050281   \n",
       "Cancelled           NaN -0.031704   -0.011076  -0.006978       NaN   \n",
       "Diverted            NaN -0.006695   -0.000952   0.000521  0.002173   \n",
       "\n",
       "                   CRSDepTime   ArrTime  CRSArrTime  FlightNum  \\\n",
       "Year                      NaN       NaN         NaN        NaN   \n",
       "Month               -0.001934 -0.002384   -0.001838   0.016787   \n",
       "DayofMonth          -0.001550 -0.001718   -0.001005   0.001378   \n",
       "DayOfWeek            0.003906  0.006740    0.006716   0.007402   \n",
       "DepTime              0.984100  0.793693    0.821491   0.016760   \n",
       "CRSDepTime           1.000000  0.785386    0.819418   0.018151   \n",
       "ArrTime              0.785386  1.000000    0.944741   0.011021   \n",
       "CRSArrTime           0.819418  0.944741    1.000000   0.009707   \n",
       "FlightNum            0.018151  0.011021    0.009707   1.000000   \n",
       "ActualElapsedTime   -0.050496  0.058332    0.059340  -0.166403   \n",
       "CRSElapsedTime      -0.046813  0.056374    0.061840  -0.169189   \n",
       "ArrDelay             0.077316  0.070468    0.081904  -0.016325   \n",
       "DepDelay             0.095680  0.071552    0.095566  -0.024913   \n",
       "Distance            -0.053210  0.046770    0.052129  -0.172730   \n",
       "Cancelled           -0.003737       NaN   -0.007040   0.000292   \n",
       "Diverted            -0.001116       NaN    0.000519  -0.005367   \n",
       "\n",
       "                   ActualElapsedTime  CRSElapsedTime  ArrDelay  DepDelay  \\\n",
       "Year                             NaN             NaN       NaN       NaN   \n",
       "Month                       0.001087        0.002217 -0.028631 -0.029289   \n",
       "DayofMonth                  0.000853        0.001193 -0.005526 -0.005544   \n",
       "DayOfWeek                   0.009725        0.014204  0.006240  0.020536   \n",
       "DepTime                    -0.046212       -0.043425  0.108290  0.128147   \n",
       "CRSDepTime                 -0.050496       -0.046813  0.077316  0.095680   \n",
       "ArrTime                     0.058332        0.056374  0.070468  0.071552   \n",
       "CRSArrTime                  0.059340        0.061840  0.081904  0.095566   \n",
       "FlightNum                  -0.166403       -0.169189 -0.016325 -0.024913   \n",
       "ActualElapsedTime           1.000000        0.984070  0.107073  0.057504   \n",
       "CRSElapsedTime              0.984070        1.000000  0.008692  0.049605   \n",
       "ArrDelay                    0.107073        0.008692  1.000000  0.783604   \n",
       "DepDelay                    0.057504        0.049605  0.783604  1.000000   \n",
       "Distance                    0.973699        0.985106  0.019171  0.047221   \n",
       "Cancelled                        NaN       -0.017767       NaN       NaN   \n",
       "Diverted                         NaN        0.021143       NaN  0.064323   \n",
       "\n",
       "                   Distance  Cancelled  Diverted  \n",
       "Year                    NaN        NaN       NaN  \n",
       "Month              0.010559  -0.031704 -0.006695  \n",
       "DayofMonth         0.001125  -0.011076 -0.000952  \n",
       "DayOfWeek          0.014389  -0.006978  0.000521  \n",
       "DepTime           -0.050281        NaN  0.002173  \n",
       "CRSDepTime        -0.053210  -0.003737 -0.001116  \n",
       "ArrTime            0.046770        NaN       NaN  \n",
       "CRSArrTime         0.052129  -0.007040  0.000519  \n",
       "FlightNum         -0.172730   0.000292 -0.005367  \n",
       "ActualElapsedTime  0.973699        NaN       NaN  \n",
       "CRSElapsedTime     0.985106  -0.017767  0.021143  \n",
       "ArrDelay           0.019171        NaN       NaN  \n",
       "DepDelay           0.047221        NaN  0.064323  \n",
       "Distance           1.000000  -0.020086  0.021254  \n",
       "Cancelled         -0.020086   1.000000 -0.004635  \n",
       "Diverted           0.021254  -0.004635  1.000000  "
      ]
     },
     "execution_count": 21,
     "metadata": {},
     "output_type": "execute_result"
    }
   ],
   "source": [
    "df.corr()"
   ]
  },
  {
   "cell_type": "code",
   "execution_count": 32,
   "metadata": {},
   "outputs": [
    {
     "name": "stderr",
     "output_type": "stream",
     "text": [
      "C:\\Users\\User\\AppData\\Local\\Temp\\ipykernel_9896\\2438265331.py:1: FutureWarning: The default value of numeric_only in DataFrame.corr is deprecated. In a future version, it will default to False. Select only valid columns or specify the value of numeric_only to silence this warning.\n",
      "  plt.matshow(df.corr())\n"
     ]
    },
    {
     "data": {
      "image/png": "[encoded data removed]",
      "text/plain": [
       "<Figure size 480x480 with 1 Axes>"
      ]
     },
     "metadata": {},
     "output_type": "display_data"
    }
   ],
   "source": [
    "plt.matshow(df.corr())\n",
    "plt.show()"
   ]
  },
  {
   "cell_type": "markdown",
   "metadata": {},
   "source": [
    "First of all let's see the odds - Year has NaN correlation with all columns, this is cause the Year column has only one value (1991). So it is a constant, no correlation to the consant can be done. Furthermore, imagine training the model that only learns to say 1991.\n",
    "\n",
    "The other nans have happened, due to the fact that columns are mutually exclusive. If your fly is cancelled, then when will you arrive? \n",
    "Technically the row with non cancelled have arrTime, also it seems Cancelled column too often takes 0 value"
   ]
  },
  {
   "cell_type": "code",
   "execution_count": 29,
   "metadata": {},
   "outputs": [
    {
     "data": {
      "text/plain": [
       "43505"
      ]
     },
     "execution_count": 29,
     "metadata": {},
     "output_type": "execute_result"
    }
   ],
   "source": [
    "df['Cancelled'].sum()\n",
    "df['Year']"
   ]
  },
  {
   "cell_type": "markdown",
   "metadata": {},
   "source": [
    "Below the code to get top 10 most correlated pairs, without square brackets it returns all pairs so i had to avoid correlation on itself (first 15, if you look at the matrix you notice Year is excluded). Also i had to avoid identical pairs but swapped(just step 2)"
   ]
  },
  {
   "cell_type": "code",
   "execution_count": 55,
   "metadata": {},
   "outputs": [
    {
     "name": "stderr",
     "output_type": "stream",
     "text": [
      "C:\\Users\\User\\AppData\\Local\\Temp\\ipykernel_9896\\1098466335.py:1: FutureWarning: The default value of numeric_only in DataFrame.corr is deprecated. In a future version, it will default to False. Select only valid columns or specify the value of numeric_only to silence this warning.\n",
      "  df.corr().abs().unstack().sort_values(ascending=False)[15:35:2]\n"
     ]
    },
    {
     "data": {
      "text/plain": [
       "CRSElapsedTime  Distance             0.985106\n",
       "CRSDepTime      DepTime              0.984100\n",
       "CRSElapsedTime  ActualElapsedTime    0.984070\n",
       "Distance        ActualElapsedTime    0.973699\n",
       "CRSArrTime      ArrTime              0.944741\n",
       "DepTime         CRSArrTime           0.821491\n",
       "CRSArrTime      CRSDepTime           0.819418\n",
       "ArrTime         DepTime              0.793693\n",
       "CRSDepTime      ArrTime              0.785386\n",
       "DepDelay        ArrDelay             0.783604\n",
       "dtype: float64"
      ]
     },
     "execution_count": 55,
     "metadata": {},
     "output_type": "execute_result"
    }
   ],
   "source": [
    "df.corr().abs().unstack().sort_values(ascending=False)[15:35:2]"
   ]
  },
  {
   "cell_type": "code",
   "execution_count": 57,
   "metadata": {},
   "outputs": [
    {
     "data": {
      "text/html": [
       "<div>\n",
       "<style scoped>\n",
       "    .dataframe tbody tr th:only-of-type {\n",
       "        vertical-align: middle;\n",
       "    }\n",
       "\n",
       "    .dataframe tbody tr th {\n",
       "        vertical-align: top;\n",
       "    }\n",
       "\n",
       "    .dataframe thead th {\n",
       "        text-align: right;\n",
       "    }\n",
       "</style>\n",
       "<table border=\"1\" class=\"dataframe\">\n",
       "  <thead>\n",
       "    <tr style=\"text-align: right;\">\n",
       "      <th></th>\n",
       "      <th>Variable descriptions</th>\n",
       "      <th>Unnamed: 1</th>\n",
       "      <th>Unnamed: 2</th>\n",
       "    </tr>\n",
       "  </thead>\n",
       "  <tbody>\n",
       "    <tr>\n",
       "      <th>0</th>\n",
       "      <td>NaN</td>\n",
       "      <td>NaN</td>\n",
       "      <td>NaN</td>\n",
       "    </tr>\n",
       "    <tr>\n",
       "      <th>1</th>\n",
       "      <td>NaN</td>\n",
       "      <td>Name</td>\n",
       "      <td>Description</td>\n",
       "    </tr>\n",
       "    <tr>\n",
       "      <th>2</th>\n",
       "      <td>1.0</td>\n",
       "      <td>Year</td>\n",
       "      <td>1987-2008</td>\n",
       "    </tr>\n",
       "    <tr>\n",
       "      <th>3</th>\n",
       "      <td>2.0</td>\n",
       "      <td>Month</td>\n",
       "      <td>12-Jan</td>\n",
       "    </tr>\n",
       "    <tr>\n",
       "      <th>4</th>\n",
       "      <td>3.0</td>\n",
       "      <td>DayofMonth</td>\n",
       "      <td>31-Jan</td>\n",
       "    </tr>\n",
       "    <tr>\n",
       "      <th>5</th>\n",
       "      <td>4.0</td>\n",
       "      <td>DayOfWeek</td>\n",
       "      <td>1 (Monday) - 7 (Sunday)</td>\n",
       "    </tr>\n",
       "    <tr>\n",
       "      <th>6</th>\n",
       "      <td>5.0</td>\n",
       "      <td>DepTime</td>\n",
       "      <td>actual departure time (local, hhmm)</td>\n",
       "    </tr>\n",
       "    <tr>\n",
       "      <th>7</th>\n",
       "      <td>6.0</td>\n",
       "      <td>CRSDepTime</td>\n",
       "      <td>scheduled departure time (local, hhmm)</td>\n",
       "    </tr>\n",
       "    <tr>\n",
       "      <th>8</th>\n",
       "      <td>7.0</td>\n",
       "      <td>ArrTime</td>\n",
       "      <td>actual arrival time (local, hhmm)</td>\n",
       "    </tr>\n",
       "    <tr>\n",
       "      <th>9</th>\n",
       "      <td>8.0</td>\n",
       "      <td>CRSArrTime</td>\n",
       "      <td>scheduled arrival time (local, hhmm)</td>\n",
       "    </tr>\n",
       "    <tr>\n",
       "      <th>10</th>\n",
       "      <td>9.0</td>\n",
       "      <td>UniqueCarrier</td>\n",
       "      <td>unique carrier code</td>\n",
       "    </tr>\n",
       "    <tr>\n",
       "      <th>11</th>\n",
       "      <td>10.0</td>\n",
       "      <td>FlightNum</td>\n",
       "      <td>flight number</td>\n",
       "    </tr>\n",
       "    <tr>\n",
       "      <th>12</th>\n",
       "      <td>11.0</td>\n",
       "      <td>TailNum</td>\n",
       "      <td>plane tail number</td>\n",
       "    </tr>\n",
       "    <tr>\n",
       "      <th>13</th>\n",
       "      <td>12.0</td>\n",
       "      <td>ActualElapsedTime</td>\n",
       "      <td>in minutes</td>\n",
       "    </tr>\n",
       "    <tr>\n",
       "      <th>14</th>\n",
       "      <td>13.0</td>\n",
       "      <td>CRSElapsedTime</td>\n",
       "      <td>in minutes</td>\n",
       "    </tr>\n",
       "    <tr>\n",
       "      <th>15</th>\n",
       "      <td>14.0</td>\n",
       "      <td>AirTime</td>\n",
       "      <td>in minutes</td>\n",
       "    </tr>\n",
       "    <tr>\n",
       "      <th>16</th>\n",
       "      <td>15.0</td>\n",
       "      <td>ArrDelay</td>\n",
       "      <td>arrival delay, in minutes</td>\n",
       "    </tr>\n",
       "    <tr>\n",
       "      <th>17</th>\n",
       "      <td>16.0</td>\n",
       "      <td>DepDelay</td>\n",
       "      <td>departure delay, in minutes</td>\n",
       "    </tr>\n",
       "    <tr>\n",
       "      <th>18</th>\n",
       "      <td>17.0</td>\n",
       "      <td>Origin</td>\n",
       "      <td>origin IATA airport code</td>\n",
       "    </tr>\n",
       "    <tr>\n",
       "      <th>19</th>\n",
       "      <td>18.0</td>\n",
       "      <td>Dest</td>\n",
       "      <td>destination IATA airport code</td>\n",
       "    </tr>\n",
       "    <tr>\n",
       "      <th>20</th>\n",
       "      <td>19.0</td>\n",
       "      <td>Distance</td>\n",
       "      <td>in miles</td>\n",
       "    </tr>\n",
       "    <tr>\n",
       "      <th>21</th>\n",
       "      <td>20.0</td>\n",
       "      <td>TaxiIn</td>\n",
       "      <td>taxi in time, in minutes</td>\n",
       "    </tr>\n",
       "    <tr>\n",
       "      <th>22</th>\n",
       "      <td>21.0</td>\n",
       "      <td>TaxiOut</td>\n",
       "      <td>taxi out time in minutes</td>\n",
       "    </tr>\n",
       "    <tr>\n",
       "      <th>23</th>\n",
       "      <td>22.0</td>\n",
       "      <td>Cancelled</td>\n",
       "      <td>was the flight cancelled?</td>\n",
       "    </tr>\n",
       "    <tr>\n",
       "      <th>24</th>\n",
       "      <td>23.0</td>\n",
       "      <td>CancellationCode</td>\n",
       "      <td>reason for cancellation (A = carrier, B = weat...</td>\n",
       "    </tr>\n",
       "    <tr>\n",
       "      <th>25</th>\n",
       "      <td>24.0</td>\n",
       "      <td>Diverted</td>\n",
       "      <td>1 = yes, 0 = no</td>\n",
       "    </tr>\n",
       "    <tr>\n",
       "      <th>26</th>\n",
       "      <td>25.0</td>\n",
       "      <td>CarrierDelay</td>\n",
       "      <td>in minutes</td>\n",
       "    </tr>\n",
       "    <tr>\n",
       "      <th>27</th>\n",
       "      <td>26.0</td>\n",
       "      <td>WeatherDelay</td>\n",
       "      <td>in minutes</td>\n",
       "    </tr>\n",
       "    <tr>\n",
       "      <th>28</th>\n",
       "      <td>27.0</td>\n",
       "      <td>NASDelay</td>\n",
       "      <td>in minutes</td>\n",
       "    </tr>\n",
       "    <tr>\n",
       "      <th>29</th>\n",
       "      <td>28.0</td>\n",
       "      <td>SecurityDelay</td>\n",
       "      <td>in minutes</td>\n",
       "    </tr>\n",
       "    <tr>\n",
       "      <th>30</th>\n",
       "      <td>29.0</td>\n",
       "      <td>LateAircraftDelay</td>\n",
       "      <td>in minutes</td>\n",
       "    </tr>\n",
       "  </tbody>\n",
       "</table>\n",
       "</div>"
      ],
      "text/plain": [
       "    Variable descriptions         Unnamed: 1  \\\n",
       "0                     NaN                NaN   \n",
       "1                     NaN               Name   \n",
       "2                     1.0               Year   \n",
       "3                     2.0              Month   \n",
       "4                     3.0         DayofMonth   \n",
       "5                     4.0          DayOfWeek   \n",
       "6                     5.0            DepTime   \n",
       "7                     6.0         CRSDepTime   \n",
       "8                     7.0            ArrTime   \n",
       "9                     8.0         CRSArrTime   \n",
       "10                    9.0      UniqueCarrier   \n",
       "11                   10.0          FlightNum   \n",
       "12                   11.0            TailNum   \n",
       "13                   12.0  ActualElapsedTime   \n",
       "14                   13.0     CRSElapsedTime   \n",
       "15                   14.0            AirTime   \n",
       "16                   15.0           ArrDelay   \n",
       "17                   16.0           DepDelay   \n",
       "18                   17.0             Origin   \n",
       "19                   18.0               Dest   \n",
       "20                   19.0           Distance   \n",
       "21                   20.0             TaxiIn   \n",
       "22                   21.0            TaxiOut   \n",
       "23                   22.0          Cancelled   \n",
       "24                   23.0   CancellationCode   \n",
       "25                   24.0           Diverted   \n",
       "26                   25.0       CarrierDelay   \n",
       "27                   26.0       WeatherDelay   \n",
       "28                   27.0           NASDelay   \n",
       "29                   28.0      SecurityDelay   \n",
       "30                   29.0  LateAircraftDelay   \n",
       "\n",
       "                                           Unnamed: 2  \n",
       "0                                                 NaN  \n",
       "1                                         Description  \n",
       "2                                           1987-2008  \n",
       "3                                              12-Jan  \n",
       "4                                              31-Jan  \n",
       "5                             1 (Monday) - 7 (Sunday)  \n",
       "6                 actual departure time (local, hhmm)  \n",
       "7              scheduled departure time (local, hhmm)  \n",
       "8                   actual arrival time (local, hhmm)  \n",
       "9                scheduled arrival time (local, hhmm)  \n",
       "10                                unique carrier code  \n",
       "11                                      flight number  \n",
       "12                                  plane tail number  \n",
       "13                                         in minutes  \n",
       "14                                         in minutes  \n",
       "15                                         in minutes  \n",
       "16                          arrival delay, in minutes  \n",
       "17                        departure delay, in minutes  \n",
       "18                           origin IATA airport code  \n",
       "19                      destination IATA airport code  \n",
       "20                                           in miles  \n",
       "21                           taxi in time, in minutes  \n",
       "22                           taxi out time in minutes  \n",
       "23                          was the flight cancelled?  \n",
       "24  reason for cancellation (A = carrier, B = weat...  \n",
       "25                                    1 = yes, 0 = no  \n",
       "26                                         in minutes  \n",
       "27                                         in minutes  \n",
       "28                                         in minutes  \n",
       "29                                         in minutes  \n",
       "30                                         in minutes  "
      ]
     },
     "execution_count": 57,
     "metadata": {},
     "output_type": "execute_result"
    }
   ],
   "source": [
    "descriptions = pd.read_csv(\"./data/variable-descriptions.csv\")\n",
    "descriptions"
   ]
  },
  {
   "cell_type": "markdown",
   "metadata": {},
   "source": [
    "Now let's discuss why they have such correlation:\n",
    "1. CRSElapsedTime  Distance  - scheduled epalsed time is highly correlated with the distance, as it is the easiest to measure value, assuming velocity is the same during the fly - distance will be the multiple of the time (D = U*t)\n",
    "2. CRSDepTime      DepTime - scheduled dep Time is assumed to predict real DepTime, so having high correlation is expected. However, sometimes unexpected situations may happen.\n",
    "3. CRSElapsedTime  ActualElapsedTime  \n",
    "Scheduled elapsed time is also assumed to predict real elapsed time, so having high correlation is expected. However, sometimes unexpected situations may happen.\n",
    "4. Distance        ActualElapsedTime \n",
    "Distance is higly correleted with scheduled Elapsedtime, which is highly correleted to Actual elapsedtime. Also at the same velocity achiving different distane is possible only with rising time at 2022.\n",
    "5. CRSArrTime      ArrTime    \n",
    "Scheduled arrival time is also assumed to predict real arrival time, so having high correlation is expected. However, sometimes unexpected situations may happen.\n",
    "6. DepTime         CRSArrTime  \n",
    "DepTime is highly correleted with CRSDepTime, that is very correleted with CRSArrTime (likely is a part of the formula of calculation of the expected arrival time).\n",
    "7. CRSArrTime      CRSDepTime  \n",
    "All scheduled(calculated) values in the airport are likely to be dependent (by being joined during calculation of other parameters)\n",
    "ArrTime is likely to be a sum of Dep time, flying time and ending time,the same way for our expectations that would be scheduled\n",
    "8. ArrTime         DepTime \n",
    "ArrTime includes DepTime, cuz there is no time travel and time is assumed to be linear with positive trend\n",
    "9. CRSDepTime      ArrTime   \n",
    "Dep Time is highly correleted with both ArrTime and Scheduled Dep time, since one first uses value of dep time to get its value and second is trying to predict Dep time\n",
    "10. DepDelay        ArrDelay\n",
    "Real Dep Time is highly correleted with DepDelay, i assume they use the formula RealDepTime = DepDelay + CRSDepTime\n",
    "The same way i assume for ArrDelay, ArrTime = ArrDelay + CRSArrTime\n",
    "As we know ArrTIme is dependent on DepTime\n",
    "\n",
    "Conclusion:\n",
    "The results based on top 10 highly correleted pairs, didn't provide us any reasonable information (that wouldn't be expected/obvious). \n"
   ]
  },
  {
   "cell_type": "markdown",
   "id": "02034a1c",
   "metadata": {},
   "source": [
    "**Q2.** Plot a graph of the number of cancelled flights by carrier (also provide human-readable carriers' names). Which company cancelled races most often?"
   ]
  },
  {
   "cell_type": "code",
   "execution_count": 10,
   "metadata": {},
   "outputs": [
    {
     "data": {
      "text/plain": [
       "<AxesSubplot: xlabel='UniqueCarrier'>"
      ]
     },
     "execution_count": 10,
     "metadata": {},
     "output_type": "execute_result"
    },
    {
     "data": {
      "image/png": "[encoded data removed]",
      "text/plain": [
       "<Figure size 640x480 with 1 Axes>"
      ]
     },
     "metadata": {},
     "output_type": "display_data"
    }
   ],
   "source": [
    "carrier_counts = df.groupby('UniqueCarrier')['Cancelled'].sum()\n",
    "carrier_counts.plot(kind='bar', x='UniqueCarrier', y='Cancelled')"
   ]
  },
  {
   "cell_type": "code",
   "execution_count": 11,
   "metadata": {},
   "outputs": [
    {
     "data": {
      "text/plain": [
       "<AxesSubplot: xlabel='UniqueCarrier'>"
      ]
     },
     "execution_count": 11,
     "metadata": {},
     "output_type": "execute_result"
    },
    {
     "data": {
      "image/png": "[encoded data removed]",
      "text/plain": [
       "<Figure size 640x480 with 1 Axes>"
      ]
     },
     "metadata": {},
     "output_type": "display_data"
    }
   ],
   "source": [
    "carrier_counts = df.groupby('UniqueCarrier')['Cancelled'].sum()\n",
    "carrier_counts.plot(kind='bar', x='UniqueCarrier')"
   ]
  },
  {
   "cell_type": "code",
   "execution_count": 18,
   "metadata": {},
   "outputs": [
    {
     "data": {
      "text/plain": [
       "0    5033420\n",
       "1      43505\n",
       "Name: Cancelled, dtype: int64"
      ]
     },
     "execution_count": 18,
     "metadata": {},
     "output_type": "execute_result"
    }
   ],
   "source": [
    "df['Cancelled'].value_counts()"
   ]
  },
  {
   "cell_type": "code",
   "execution_count": 19,
   "metadata": {},
   "outputs": [
    {
     "data": {
      "text/plain": [
       "US        907184\n",
       "DL        874791\n",
       "AA        725191\n",
       "UA        630093\n",
       "NW        460230\n",
       "CO        424734\n",
       "WN        368734\n",
       "TW        231769\n",
       "HP        219896\n",
       "AS         98952\n",
       "ML (1)     70622\n",
       "PA (1)     64729\n",
       "Name: UniqueCarrier, dtype: int64"
      ]
     },
     "execution_count": 19,
     "metadata": {},
     "output_type": "execute_result"
    }
   ],
   "source": [
    "df['UniqueCarrier'].value_counts()"
   ]
  },
  {
   "cell_type": "code",
   "execution_count": 20,
   "metadata": {},
   "outputs": [
    {
     "data": {
      "text/plain": [
       "UniqueCarrier\n",
       "AA        4951\n",
       "AS         858\n",
       "CO        3600\n",
       "DL        5990\n",
       "HP        2204\n",
       "ML (1)    1342\n",
       "NW        2741\n",
       "PA (1)     825\n",
       "TW        2871\n",
       "UA        8732\n",
       "US        6932\n",
       "WN        2459\n",
       "Name: Cancelled, dtype: int64"
      ]
     },
     "execution_count": 20,
     "metadata": {},
     "output_type": "execute_result"
    }
   ],
   "source": [
    "carrier_counts"
   ]
  },
  {
   "cell_type": "code",
   "execution_count": 21,
   "metadata": {},
   "outputs": [
    {
     "data": {
      "text/plain": [
       "<AxesSubplot: >"
      ]
     },
     "execution_count": 21,
     "metadata": {},
     "output_type": "execute_result"
    },
    {
     "data": {
      "image/png": "[encoded data removed]",
      "text/plain": [
       "<Figure size 640x480 with 1 Axes>"
      ]
     },
     "metadata": {},
     "output_type": "display_data"
    }
   ],
   "source": [
    "carrier_counts = df.groupby('UniqueCarrier')['Cancelled'].sum().divide(df['UniqueCarrier'].value_counts())\n",
    "carrier_counts.plot(kind='bar', x='UniqueCarrier')"
   ]
  },
  {
   "cell_type": "markdown",
   "metadata": {},
   "source": [
    "So in total we have 43505 cancelled flights.\n",
    "As you can see from the graph UA and US have highest amounts of cancelled flights (above 6000). \n",
    "However, we must account proportions to make reasonable conclusions.\n",
    "About UA <United Airlines Inc.>:\n",
    "8732 cancelled flights out of 630093 \n",
    "UA cancelled proportion = 8732/630093 = 0.01385827171\n",
    "About US <US Airways Inc.>:\n",
    "6932 cancelled flights out of 907184\n",
    "US cancelled propotion = 6932/907184 = 0.00764122824\n",
    "Low values - the chance of cancelled flight given you use UA or US carriers is ~ 1%.\n",
    "\n",
    "Beforehand i was using counts of cancelled flights, but proportion makes more sence.\n",
    "From the graph of the proportions of cancelled flights among carriers we see that in general cancelled flight propability is about 1 %.\n",
    "However, the highest risk of cancellation is in ML(1) with the proportion ~ 0.018, so it is close to 2 %.\n",
    "\n",
    "So if i got to answer for a question: which UniqueCarriers cancelled is more often (in terms of counts) - than my answer will be UA <United Airlines Inc.> and US <US Airways Inc.>. But if i answer in terms of the frequency - my answer will be ML(1) <Midway Airlines Inc. (1)>.\n",
    "\n",
    "Now let's draw graph with readable names\n"
   ]
  },
  {
   "cell_type": "code",
   "execution_count": 22,
   "metadata": {},
   "outputs": [],
   "source": [
    "name_parser = pd.read_csv('./data/carriers.csv')\n"
   ]
  },
  {
   "cell_type": "code",
   "execution_count": 39,
   "metadata": {},
   "outputs": [],
   "source": [
    "df = df.merge(name_parser, left_on='UniqueCarrier', right_on='Code')"
   ]
  },
  {
   "cell_type": "code",
   "execution_count": 41,
   "metadata": {},
   "outputs": [],
   "source": [
    "df = df.drop('Code', axis=1)\n"
   ]
  },
  {
   "cell_type": "code",
   "execution_count": 42,
   "metadata": {},
   "outputs": [],
   "source": [
    "df = df.rename(columns={'Description':'UniqueCarrierDescription'})"
   ]
  },
  {
   "cell_type": "code",
   "execution_count": 43,
   "metadata": {},
   "outputs": [
    {
     "data": {
      "text/plain": [
       "<AxesSubplot: >"
      ]
     },
     "execution_count": 43,
     "metadata": {},
     "output_type": "execute_result"
    },
    {
     "data": {
      "image/png": "[encoded data removed]",
      "text/plain": [
       "<Figure size 640x480 with 1 Axes>"
      ]
     },
     "metadata": {},
     "output_type": "display_data"
    }
   ],
   "source": [
    "carrier_counts = df.groupby('UniqueCarrierDescription')['Cancelled'].sum().divide(df['UniqueCarrierDescription'].value_counts())\n",
    "carrier_counts.plot(kind='bar', x='UniqueCarrierDescription')"
   ]
  },
  {
   "cell_type": "markdown",
   "metadata": {},
   "source": [
    "<END of the answer 2>"
   ]
  },
  {
   "cell_type": "markdown",
   "id": "175f8bba",
   "metadata": {},
   "source": [
    "**Q3.** Select all flights of the most popular carrier scheduled on 1st day of a month. Print top-10 of such flights with greatest arrival delays."
   ]
  },
  {
   "cell_type": "markdown",
   "id": "1f99d1f9",
   "metadata": {},
   "source": [
    "**Q4.** Create column `DepDatetime` with datetimes of departures in the format `yyyy-mm-dd HH:MM`."
   ]
  },
  {
   "cell_type": "markdown",
   "id": "c5f1fab9",
   "metadata": {},
   "source": [
    "**Q5.** Plot the histograms of arrival and departure delays. Adjust figure size, number of bins and type of scales."
   ]
  },
  {
   "cell_type": "markdown",
   "id": "e2ff301c",
   "metadata": {},
   "source": [
    "**Q6.** Plot boxplots of arrival delays, grouped by \n",
    "* month\n",
    "* day of week\n",
    "* hour\n",
    "* carrier\n",
    "\n",
    "Answer question 1 from the coursework project file."
   ]
  },
  {
   "cell_type": "markdown",
   "id": "540efced",
   "metadata": {},
   "source": [
    "**Q7.** Add column with ages of planes. Do older planes suffer more delays? Plot some graphs justifying your answer."
   ]
  }
 ],
 "metadata": {
  "kernelspec": {
   "display_name": "Python 3.10.9 64-bit (microsoft store)",
   "language": "python",
   "name": "python3"
  },
  "language_info": {
   "codemirror_mode": {
    "name": "ipython",
    "version": 3
   },
   "file_extension": ".py",
   "mimetype": "text/x-python",
   "name": "python",
   "nbconvert_exporter": "python",
   "pygments_lexer": "ipython3",
   "version": "3.10.9"
  },
  "vscode": {
   "interpreter": {
    "hash": "3b7e9cb8e453d6cda0fe8c8dd13f891a1f09162f0e7c66ffeae7751a7aecf00d"
   }
  }
 },
 "nbformat": 4,
 "nbformat_minor": 0
}
